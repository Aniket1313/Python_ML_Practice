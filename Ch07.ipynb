{
  "nbformat": 4,
  "nbformat_minor": 0,
  "metadata": {
    "colab": {
      "name": "Ch07.ipynb",
      "provenance": [],
      "authorship_tag": "ABX9TyO9c7uFYwrDAzZ707uaGlTm",
      "include_colab_link": true
    },
    "kernelspec": {
      "name": "python3",
      "display_name": "Python 3"
    }
  },
  "cells": [
    {
      "cell_type": "markdown",
      "metadata": {
        "id": "view-in-github",
        "colab_type": "text"
      },
      "source": [
        "<a href=\"https://colab.research.google.com/github/Aniket1313/Python_ML_Practice/blob/master/Ch07.ipynb\" target=\"_parent\"><img src=\"https://colab.research.google.com/assets/colab-badge.svg\" alt=\"Open In Colab\"/></a>"
      ]
    },
    {
      "cell_type": "markdown",
      "metadata": {
        "id": "xlYEooTPzVdQ"
      },
      "source": [
        "#Chapter 7 :Prepare Data for Machine Learning \n",
        "\n",
        "Recipes:\n",
        "1. Rescale data\n",
        "2. Standardize data \n",
        "3. Normalize data\n",
        "4. Binarize Data"
      ]
    },
    {
      "cell_type": "code",
      "metadata": {
        "id": "6IaHlZ9UzI0C"
      },
      "source": [
        "import pandas as pd\n",
        "from sklearn.preprocessing import MinMaxScaler"
      ],
      "execution_count": 2,
      "outputs": []
    },
    {
      "cell_type": "code",
      "metadata": {
        "id": "OaueOxek1fYL"
      },
      "source": [
        "filename = 'pima-indians-diabetes.csv'\n",
        "names = ['preg','plans','skin','test','mass','pedi','age','class']\n",
        "df = pd.read_csv(filename,names=names)"
      ],
      "execution_count": 5,
      "outputs": []
    },
    {
      "cell_type": "code",
      "metadata": {
        "id": "guykNdabzXWX",
        "outputId": "8640726a-5310-41dc-bcd6-449aa18688bc",
        "colab": {
          "base_uri": "https://localhost:8080/",
          "height": 359
        }
      },
      "source": [
        "df.head(10)"
      ],
      "execution_count": 6,
      "outputs": [
        {
          "output_type": "execute_result",
          "data": {
            "text/html": [
              "<div>\n",
              "<style scoped>\n",
              "    .dataframe tbody tr th:only-of-type {\n",
              "        vertical-align: middle;\n",
              "    }\n",
              "\n",
              "    .dataframe tbody tr th {\n",
              "        vertical-align: top;\n",
              "    }\n",
              "\n",
              "    .dataframe thead th {\n",
              "        text-align: right;\n",
              "    }\n",
              "</style>\n",
              "<table border=\"1\" class=\"dataframe\">\n",
              "  <thead>\n",
              "    <tr style=\"text-align: right;\">\n",
              "      <th></th>\n",
              "      <th>preg</th>\n",
              "      <th>plans</th>\n",
              "      <th>skin</th>\n",
              "      <th>test</th>\n",
              "      <th>mass</th>\n",
              "      <th>pedi</th>\n",
              "      <th>age</th>\n",
              "      <th>class</th>\n",
              "    </tr>\n",
              "  </thead>\n",
              "  <tbody>\n",
              "    <tr>\n",
              "      <th>6</th>\n",
              "      <td>148</td>\n",
              "      <td>72</td>\n",
              "      <td>35</td>\n",
              "      <td>0</td>\n",
              "      <td>33.6</td>\n",
              "      <td>0.627</td>\n",
              "      <td>50</td>\n",
              "      <td>1</td>\n",
              "    </tr>\n",
              "    <tr>\n",
              "      <th>1</th>\n",
              "      <td>85</td>\n",
              "      <td>66</td>\n",
              "      <td>29</td>\n",
              "      <td>0</td>\n",
              "      <td>26.6</td>\n",
              "      <td>0.351</td>\n",
              "      <td>31</td>\n",
              "      <td>0</td>\n",
              "    </tr>\n",
              "    <tr>\n",
              "      <th>8</th>\n",
              "      <td>183</td>\n",
              "      <td>64</td>\n",
              "      <td>0</td>\n",
              "      <td>0</td>\n",
              "      <td>23.3</td>\n",
              "      <td>0.672</td>\n",
              "      <td>32</td>\n",
              "      <td>1</td>\n",
              "    </tr>\n",
              "    <tr>\n",
              "      <th>1</th>\n",
              "      <td>89</td>\n",
              "      <td>66</td>\n",
              "      <td>23</td>\n",
              "      <td>94</td>\n",
              "      <td>28.1</td>\n",
              "      <td>0.167</td>\n",
              "      <td>21</td>\n",
              "      <td>0</td>\n",
              "    </tr>\n",
              "    <tr>\n",
              "      <th>0</th>\n",
              "      <td>137</td>\n",
              "      <td>40</td>\n",
              "      <td>35</td>\n",
              "      <td>168</td>\n",
              "      <td>43.1</td>\n",
              "      <td>2.288</td>\n",
              "      <td>33</td>\n",
              "      <td>1</td>\n",
              "    </tr>\n",
              "    <tr>\n",
              "      <th>5</th>\n",
              "      <td>116</td>\n",
              "      <td>74</td>\n",
              "      <td>0</td>\n",
              "      <td>0</td>\n",
              "      <td>25.6</td>\n",
              "      <td>0.201</td>\n",
              "      <td>30</td>\n",
              "      <td>0</td>\n",
              "    </tr>\n",
              "    <tr>\n",
              "      <th>3</th>\n",
              "      <td>78</td>\n",
              "      <td>50</td>\n",
              "      <td>32</td>\n",
              "      <td>88</td>\n",
              "      <td>31.0</td>\n",
              "      <td>0.248</td>\n",
              "      <td>26</td>\n",
              "      <td>1</td>\n",
              "    </tr>\n",
              "    <tr>\n",
              "      <th>10</th>\n",
              "      <td>115</td>\n",
              "      <td>0</td>\n",
              "      <td>0</td>\n",
              "      <td>0</td>\n",
              "      <td>35.3</td>\n",
              "      <td>0.134</td>\n",
              "      <td>29</td>\n",
              "      <td>0</td>\n",
              "    </tr>\n",
              "    <tr>\n",
              "      <th>2</th>\n",
              "      <td>197</td>\n",
              "      <td>70</td>\n",
              "      <td>45</td>\n",
              "      <td>543</td>\n",
              "      <td>30.5</td>\n",
              "      <td>0.158</td>\n",
              "      <td>53</td>\n",
              "      <td>1</td>\n",
              "    </tr>\n",
              "    <tr>\n",
              "      <th>8</th>\n",
              "      <td>125</td>\n",
              "      <td>96</td>\n",
              "      <td>0</td>\n",
              "      <td>0</td>\n",
              "      <td>0.0</td>\n",
              "      <td>0.232</td>\n",
              "      <td>54</td>\n",
              "      <td>1</td>\n",
              "    </tr>\n",
              "  </tbody>\n",
              "</table>\n",
              "</div>"
            ],
            "text/plain": [
              "    preg  plans  skin  test  mass   pedi  age  class\n",
              "6    148     72    35     0  33.6  0.627   50      1\n",
              "1     85     66    29     0  26.6  0.351   31      0\n",
              "8    183     64     0     0  23.3  0.672   32      1\n",
              "1     89     66    23    94  28.1  0.167   21      0\n",
              "0    137     40    35   168  43.1  2.288   33      1\n",
              "5    116     74     0     0  25.6  0.201   30      0\n",
              "3     78     50    32    88  31.0  0.248   26      1\n",
              "10   115      0     0     0  35.3  0.134   29      0\n",
              "2    197     70    45   543  30.5  0.158   53      1\n",
              "8    125     96     0     0   0.0  0.232   54      1"
            ]
          },
          "metadata": {
            "tags": []
          },
          "execution_count": 6
        }
      ]
    },
    {
      "cell_type": "code",
      "metadata": {
        "id": "1Zh6ODW-1G3c"
      },
      "source": [
        "from numpy import set_printoptions\n",
        "from sklearn.preprocessing import MinMaxScaler"
      ],
      "execution_count": 7,
      "outputs": []
    },
    {
      "cell_type": "code",
      "metadata": {
        "id": "IpO9z9dy16su",
        "outputId": "4f87f1c1-b8c0-4b13-bcee-7ac3df953171",
        "colab": {
          "base_uri": "https://localhost:8080/",
          "height": 34
        }
      },
      "source": [
        "array = df.values\n",
        "array.shape"
      ],
      "execution_count": 11,
      "outputs": [
        {
          "output_type": "execute_result",
          "data": {
            "text/plain": [
              "(768, 8)"
            ]
          },
          "metadata": {
            "tags": []
          },
          "execution_count": 11
        }
      ]
    },
    {
      "cell_type": "code",
      "metadata": {
        "id": "UbRvzGdY2Cip",
        "outputId": "08ff893b-4e8c-4c7a-e2ce-0292fb2c500a",
        "colab": {
          "base_uri": "https://localhost:8080/",
          "height": 34
        }
      },
      "source": [
        "array.size"
      ],
      "execution_count": 12,
      "outputs": [
        {
          "output_type": "execute_result",
          "data": {
            "text/plain": [
              "6144"
            ]
          },
          "metadata": {
            "tags": []
          },
          "execution_count": 12
        }
      ]
    },
    {
      "cell_type": "code",
      "metadata": {
        "id": "1Gs4fbQF2Our"
      },
      "source": [
        "X = array[:, 0:8]\n",
        "Y = array[:, 7]"
      ],
      "execution_count": 31,
      "outputs": []
    },
    {
      "cell_type": "code",
      "metadata": {
        "id": "7dJR2Xpt7-HU",
        "outputId": "b9a22daf-6c1d-4f49-dcf4-6370020bc488",
        "colab": {
          "base_uri": "https://localhost:8080/",
          "height": 34
        }
      },
      "source": [
        "print(X.shape ,Y.shape)"
      ],
      "execution_count": 32,
      "outputs": [
        {
          "output_type": "stream",
          "text": [
            "(768, 8) (768,)\n"
          ],
          "name": "stdout"
        }
      ]
    },
    {
      "cell_type": "code",
      "metadata": {
        "id": "jttNsQB03_Jv"
      },
      "source": [
        "from numpy import set_printoptions\n",
        "scaler = MinMaxScaler(feature_range =(0, 1))\n",
        "rescaledX =scaler.fit_transform(X)\n",
        "#summarize transformed data\n",
        "set_printoptions(precision=3)"
      ],
      "execution_count": 29,
      "outputs": []
    },
    {
      "cell_type": "code",
      "metadata": {
        "id": "L6AtDyKm4W4Z",
        "outputId": "d1a78a5d-c779-4453-aa40-9307d390872b",
        "colab": {
          "base_uri": "https://localhost:8080/",
          "height": 187
        }
      },
      "source": [
        "rescaledX[:10]"
      ],
      "execution_count": 20,
      "outputs": [
        {
          "output_type": "execute_result",
          "data": {
            "text/plain": [
              "array([[0.744, 0.59 , 0.354, 0.   , 0.501, 0.234, 0.483, 1.   ],\n",
              "       [0.427, 0.541, 0.293, 0.   , 0.396, 0.117, 0.167, 0.   ],\n",
              "       [0.92 , 0.525, 0.   , 0.   , 0.347, 0.254, 0.183, 1.   ],\n",
              "       [0.447, 0.541, 0.232, 0.111, 0.419, 0.038, 0.   , 0.   ],\n",
              "       [0.688, 0.328, 0.354, 0.199, 0.642, 0.944, 0.2  , 1.   ],\n",
              "       [0.583, 0.607, 0.   , 0.   , 0.382, 0.053, 0.15 , 0.   ],\n",
              "       [0.392, 0.41 , 0.323, 0.104, 0.462, 0.073, 0.083, 1.   ],\n",
              "       [0.578, 0.   , 0.   , 0.   , 0.526, 0.024, 0.133, 0.   ],\n",
              "       [0.99 , 0.574, 0.455, 0.642, 0.455, 0.034, 0.533, 1.   ],\n",
              "       [0.628, 0.787, 0.   , 0.   , 0.   , 0.066, 0.55 , 1.   ]])"
            ]
          },
          "metadata": {
            "tags": []
          },
          "execution_count": 20
        }
      ]
    },
    {
      "cell_type": "code",
      "metadata": {
        "id": "-SL7v3te4kS6",
        "outputId": "5b81a0b3-54a2-4d68-e199-e79392bde001",
        "colab": {
          "base_uri": "https://localhost:8080/",
          "height": 34
        }
      },
      "source": [
        "rescaledX.shape"
      ],
      "execution_count": 21,
      "outputs": [
        {
          "output_type": "execute_result",
          "data": {
            "text/plain": [
              "(768, 8)"
            ]
          },
          "metadata": {
            "tags": []
          },
          "execution_count": 21
        }
      ]
    },
    {
      "cell_type": "code",
      "metadata": {
        "id": "9OZFDDMc4_ye",
        "outputId": "008c2e0c-6ef2-49db-b567-8dcca91629f7",
        "colab": {
          "base_uri": "https://localhost:8080/",
          "height": 102
        }
      },
      "source": [
        "print(rescaledX[0:5,:])"
      ],
      "execution_count": 22,
      "outputs": [
        {
          "output_type": "stream",
          "text": [
            "[[0.744 0.59  0.354 0.    0.501 0.234 0.483 1.   ]\n",
            " [0.427 0.541 0.293 0.    0.396 0.117 0.167 0.   ]\n",
            " [0.92  0.525 0.    0.    0.347 0.254 0.183 1.   ]\n",
            " [0.447 0.541 0.232 0.111 0.419 0.038 0.    0.   ]\n",
            " [0.688 0.328 0.354 0.199 0.642 0.944 0.2   1.   ]]\n"
          ],
          "name": "stdout"
        }
      ]
    },
    {
      "cell_type": "markdown",
      "metadata": {
        "id": "2YkfKf5I8WrO"
      },
      "source": [
        "#7.6 Binarize Data (Make Binary)\n",
        "\n",
        "Useful when have probablities.New features that indicate meaningful."
      ]
    },
    {
      "cell_type": "code",
      "metadata": {
        "id": "BQA--xTi5fg7"
      },
      "source": [
        "from sklearn.preprocessing import Binarizer "
      ],
      "execution_count": 34,
      "outputs": []
    },
    {
      "cell_type": "code",
      "metadata": {
        "id": "6MOr20KZ8oNu",
        "outputId": "16c0879c-fdd5-40ad-9298-e1bd971b2ae4",
        "colab": {
          "base_uri": "https://localhost:8080/",
          "height": 102
        }
      },
      "source": [
        "binarizer = Binarizer(threshold = 0.0).fit(X)\n",
        "binaryX = binarizer.transform(X)\n",
        "\n",
        "#summarize transformed data\n",
        "set_printoptions(precision=3)\n",
        "print(binaryX[0:5,:])"
      ],
      "execution_count": 35,
      "outputs": [
        {
          "output_type": "stream",
          "text": [
            "[[1. 1. 1. 0. 1. 1. 1. 1.]\n",
            " [1. 1. 1. 0. 1. 1. 1. 0.]\n",
            " [1. 1. 0. 0. 1. 1. 1. 1.]\n",
            " [1. 1. 1. 1. 1. 1. 1. 0.]\n",
            " [1. 1. 1. 1. 1. 1. 1. 1.]]\n"
          ],
          "name": "stdout"
        }
      ]
    },
    {
      "cell_type": "code",
      "metadata": {
        "id": "YPKRlb9X9qqf"
      },
      "source": [
        ""
      ],
      "execution_count": null,
      "outputs": []
    },
    {
      "cell_type": "code",
      "metadata": {
        "id": "_ktuon_r9-Ef"
      },
      "source": [
        ""
      ],
      "execution_count": null,
      "outputs": []
    }
  ]
}