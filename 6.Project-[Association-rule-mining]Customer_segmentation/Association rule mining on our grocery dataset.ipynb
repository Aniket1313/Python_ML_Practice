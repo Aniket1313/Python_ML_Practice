{
 "cells": [
  {
   "cell_type": "code",
   "execution_count": 1,
   "metadata": {
    "collapsed": true
   },
   "outputs": [],
   "source": [
    "import csv\n",
    "import pandas as pd\n",
    "import matplotlib.pyplot as plt\n",
    "import Orange\n",
    "from Orange.data import Domain, DiscreteVariable, ContinuousVariable\n",
    "from orangecontrib.associate.fpgrowth import *\n",
    "%matplotlib inline"
   ]
  },
  {
   "cell_type": "code",
   "execution_count": 2,
   "metadata": {
    "collapsed": true
   },
   "outputs": [],
   "source": [
    "grocery_items = set()\n",
    "with open('grocery_dataset.txt') as f:\n",
    "    reader = csv.reader(f, delimiter = ',')\n",
    "    for i, line in enumerate(reader):\n",
    "        grocery_items.update(line)\n",
    "        \n",
    "output_list = list()\n",
    "with open('grocery_dataset.txt') as f:\n",
    "    reader = csv.reader(f, delimiter = ',')\n",
    "    for i, line in enumerate(reader):\n",
    "        row_val = {item: 0 for item in grocery_items}\n",
    "        row_val.update({item: 1 for item in line})\n",
    "        output_list.append(row_val)\n",
    "        \n",
    "grocery_df = pd.DataFrame(output_list)"
   ]
  },
  {
   "cell_type": "code",
   "execution_count": 11,
   "metadata": {},
   "outputs": [
    {
     "data": {
      "text/plain": [
       "(9835, 169)"
      ]
     },
     "execution_count": 11,
     "metadata": {},
     "output_type": "execute_result"
    }
   ],
   "source": [
    "# we have 9,835 total transactions and a total of 169 items\n",
    "grocery_df.shape"
   ]
  },
  {
   "cell_type": "code",
   "execution_count": 15,
   "metadata": {},
   "outputs": [
    {
     "name": "stdout",
     "output_type": "stream",
     "text": [
      "43367\n"
     ]
    },
    {
     "data": {
      "text/html": [
       "<div>\n",
       "<style>\n",
       "    .dataframe thead tr:only-child th {\n",
       "        text-align: right;\n",
       "    }\n",
       "\n",
       "    .dataframe thead th {\n",
       "        text-align: left;\n",
       "    }\n",
       "\n",
       "    .dataframe tbody tr th {\n",
       "        vertical-align: top;\n",
       "    }\n",
       "</style>\n",
       "<table border=\"1\" class=\"dataframe\">\n",
       "  <thead>\n",
       "    <tr style=\"text-align: right;\">\n",
       "      <th></th>\n",
       "      <th>item_name</th>\n",
       "      <th>item_count</th>\n",
       "    </tr>\n",
       "  </thead>\n",
       "  <tbody>\n",
       "    <tr>\n",
       "      <th>0</th>\n",
       "      <td>whole milk</td>\n",
       "      <td>2513</td>\n",
       "    </tr>\n",
       "    <tr>\n",
       "      <th>1</th>\n",
       "      <td>other vegetables</td>\n",
       "      <td>1903</td>\n",
       "    </tr>\n",
       "    <tr>\n",
       "      <th>2</th>\n",
       "      <td>rolls/buns</td>\n",
       "      <td>1809</td>\n",
       "    </tr>\n",
       "    <tr>\n",
       "      <th>3</th>\n",
       "      <td>soda</td>\n",
       "      <td>1715</td>\n",
       "    </tr>\n",
       "    <tr>\n",
       "      <th>4</th>\n",
       "      <td>yogurt</td>\n",
       "      <td>1372</td>\n",
       "    </tr>\n",
       "  </tbody>\n",
       "</table>\n",
       "</div>"
      ],
      "text/plain": [
       "          item_name  item_count\n",
       "0        whole milk        2513\n",
       "1  other vegetables        1903\n",
       "2        rolls/buns        1809\n",
       "3              soda        1715\n",
       "4            yogurt        1372"
      ]
     },
     "execution_count": 15,
     "metadata": {},
     "output_type": "execute_result"
    }
   ],
   "source": [
    "# what are top 10 items that occur in the dataset ? \n",
    "# and how much of the total sales they account for ?\n",
    "total_item_count = sum(grocery_df.sum())\n",
    "print(total_item_count)\n",
    "item_summary_df = grocery_df.sum().sort_values(ascending = False).reset_index().head(n = 20)\n",
    "item_summary_df.rename(columns = {item_summary_df.columns[0]: 'item_name',\n",
    "                                  item_summary_df.columns[1]: 'item_count'},\n",
    "                       inplace = True)\n",
    "item_summary_df.head()"
   ]
  },
  {
   "cell_type": "code",
   "execution_count": 19,
   "metadata": {},
   "outputs": [
    {
     "data": {
      "text/plain": [
       "<matplotlib.text.Text at 0x11163f668>"
      ]
     },
     "execution_count": 19,
     "metadata": {},
     "output_type": "execute_result"
    },
    {
     "data": {
      "image/png": "[encoded data removed]",
      "text/plain": [
       "<matplotlib.figure.Figure at 0x12077e630>"
      ]
     },
     "metadata": {},
     "output_type": "display_data"
    }
   ],
   "source": [
    "objects = (list(item_summary_df['item_name'].head(n = 20)))\n",
    "y_pos = np.arange(len(objects))\n",
    "performance = list(item_summary_df['item_count'].head(n = 20))\n",
    "\n",
    "plt.bar(y_pos, performance, align = 'center', alpha = 0.5)\n",
    "plt.xticks(y_pos, objects, rotation = 'vertical')\n",
    "plt.ylabel('Item Count')\n",
    "plt.title('Item sales distribution')"
   ]
  },
  {
   "cell_type": "code",
   "execution_count": 20,
   "metadata": {},
   "outputs": [
    {
     "data": {
      "text/html": [
       "<div>\n",
       "<style>\n",
       "    .dataframe thead tr:only-child th {\n",
       "        text-align: right;\n",
       "    }\n",
       "\n",
       "    .dataframe thead th {\n",
       "        text-align: left;\n",
       "    }\n",
       "\n",
       "    .dataframe tbody tr th {\n",
       "        vertical-align: top;\n",
       "    }\n",
       "</style>\n",
       "<table border=\"1\" class=\"dataframe\">\n",
       "  <thead>\n",
       "    <tr style=\"text-align: right;\">\n",
       "      <th></th>\n",
       "      <th>item_name</th>\n",
       "      <th>item_count</th>\n",
       "      <th>item_perc</th>\n",
       "      <th>total_perc</th>\n",
       "    </tr>\n",
       "  </thead>\n",
       "  <tbody>\n",
       "    <tr>\n",
       "      <th>0</th>\n",
       "      <td>whole milk</td>\n",
       "      <td>2513</td>\n",
       "      <td>0.057947</td>\n",
       "      <td>0.057947</td>\n",
       "    </tr>\n",
       "    <tr>\n",
       "      <th>1</th>\n",
       "      <td>other vegetables</td>\n",
       "      <td>1903</td>\n",
       "      <td>0.043881</td>\n",
       "      <td>0.101829</td>\n",
       "    </tr>\n",
       "    <tr>\n",
       "      <th>2</th>\n",
       "      <td>rolls/buns</td>\n",
       "      <td>1809</td>\n",
       "      <td>0.041714</td>\n",
       "      <td>0.143542</td>\n",
       "    </tr>\n",
       "    <tr>\n",
       "      <th>3</th>\n",
       "      <td>soda</td>\n",
       "      <td>1715</td>\n",
       "      <td>0.039546</td>\n",
       "      <td>0.183089</td>\n",
       "    </tr>\n",
       "    <tr>\n",
       "      <th>4</th>\n",
       "      <td>yogurt</td>\n",
       "      <td>1372</td>\n",
       "      <td>0.031637</td>\n",
       "      <td>0.214725</td>\n",
       "    </tr>\n",
       "    <tr>\n",
       "      <th>5</th>\n",
       "      <td>bottled water</td>\n",
       "      <td>1087</td>\n",
       "      <td>0.025065</td>\n",
       "      <td>0.239791</td>\n",
       "    </tr>\n",
       "    <tr>\n",
       "      <th>6</th>\n",
       "      <td>root vegetables</td>\n",
       "      <td>1072</td>\n",
       "      <td>0.024719</td>\n",
       "      <td>0.264510</td>\n",
       "    </tr>\n",
       "    <tr>\n",
       "      <th>7</th>\n",
       "      <td>tropical fruit</td>\n",
       "      <td>1032</td>\n",
       "      <td>0.023797</td>\n",
       "      <td>0.288307</td>\n",
       "    </tr>\n",
       "    <tr>\n",
       "      <th>8</th>\n",
       "      <td>shopping bags</td>\n",
       "      <td>969</td>\n",
       "      <td>0.022344</td>\n",
       "      <td>0.310651</td>\n",
       "    </tr>\n",
       "    <tr>\n",
       "      <th>9</th>\n",
       "      <td>sausage</td>\n",
       "      <td>924</td>\n",
       "      <td>0.021307</td>\n",
       "      <td>0.331957</td>\n",
       "    </tr>\n",
       "  </tbody>\n",
       "</table>\n",
       "</div>"
      ],
      "text/plain": [
       "          item_name  item_count  item_perc  total_perc\n",
       "0        whole milk        2513   0.057947    0.057947\n",
       "1  other vegetables        1903   0.043881    0.101829\n",
       "2        rolls/buns        1809   0.041714    0.143542\n",
       "3              soda        1715   0.039546    0.183089\n",
       "4            yogurt        1372   0.031637    0.214725\n",
       "5     bottled water        1087   0.025065    0.239791\n",
       "6   root vegetables        1072   0.024719    0.264510\n",
       "7    tropical fruit        1032   0.023797    0.288307\n",
       "8     shopping bags         969   0.022344    0.310651\n",
       "9           sausage         924   0.021307    0.331957"
      ]
     },
     "execution_count": 20,
     "metadata": {},
     "output_type": "execute_result"
    }
   ],
   "source": [
    "# how much percentage of total sales is explained by these 20 items alone\n",
    "item_summary_df['item_perc'] = item_summary_df['item_count'] / total_item_count\n",
    "item_summary_df['total_perc'] = item_summary_df.item_perc.cumsum()\n",
    "item_summary_df.head(10)\n"
   ]
  },
  {
   "cell_type": "code",
   "execution_count": 21,
   "metadata": {},
   "outputs": [
    {
     "data": {
      "text/plain": [
       "(19, 4)"
      ]
     },
     "execution_count": 21,
     "metadata": {},
     "output_type": "execute_result"
    }
   ],
   "source": [
    "# top five items are responsible for 21.4% of the entire sales\n",
    "item_summary_df[item_summary_df.total_perc <= 0.5].shape\n"
   ]
  },
  {
   "cell_type": "code",
   "execution_count": 22,
   "metadata": {},
   "outputs": [
    {
     "data": {
      "text/html": [
       "<div>\n",
       "<style>\n",
       "    .dataframe thead tr:only-child th {\n",
       "        text-align: right;\n",
       "    }\n",
       "\n",
       "    .dataframe thead th {\n",
       "        text-align: left;\n",
       "    }\n",
       "\n",
       "    .dataframe tbody tr th {\n",
       "        vertical-align: top;\n",
       "    }\n",
       "</style>\n",
       "<table border=\"1\" class=\"dataframe\">\n",
       "  <thead>\n",
       "    <tr style=\"text-align: right;\">\n",
       "      <th></th>\n",
       "      <th>item_name</th>\n",
       "      <th>item_count</th>\n",
       "      <th>item_perc</th>\n",
       "      <th>total_perc</th>\n",
       "    </tr>\n",
       "  </thead>\n",
       "  <tbody>\n",
       "    <tr>\n",
       "      <th>0</th>\n",
       "      <td>whole milk</td>\n",
       "      <td>2513</td>\n",
       "      <td>0.057947</td>\n",
       "      <td>0.057947</td>\n",
       "    </tr>\n",
       "    <tr>\n",
       "      <th>1</th>\n",
       "      <td>other vegetables</td>\n",
       "      <td>1903</td>\n",
       "      <td>0.043881</td>\n",
       "      <td>0.101829</td>\n",
       "    </tr>\n",
       "    <tr>\n",
       "      <th>2</th>\n",
       "      <td>rolls/buns</td>\n",
       "      <td>1809</td>\n",
       "      <td>0.041714</td>\n",
       "      <td>0.143542</td>\n",
       "    </tr>\n",
       "    <tr>\n",
       "      <th>3</th>\n",
       "      <td>soda</td>\n",
       "      <td>1715</td>\n",
       "      <td>0.039546</td>\n",
       "      <td>0.183089</td>\n",
       "    </tr>\n",
       "    <tr>\n",
       "      <th>4</th>\n",
       "      <td>yogurt</td>\n",
       "      <td>1372</td>\n",
       "      <td>0.031637</td>\n",
       "      <td>0.214725</td>\n",
       "    </tr>\n",
       "    <tr>\n",
       "      <th>5</th>\n",
       "      <td>bottled water</td>\n",
       "      <td>1087</td>\n",
       "      <td>0.025065</td>\n",
       "      <td>0.239791</td>\n",
       "    </tr>\n",
       "    <tr>\n",
       "      <th>6</th>\n",
       "      <td>root vegetables</td>\n",
       "      <td>1072</td>\n",
       "      <td>0.024719</td>\n",
       "      <td>0.264510</td>\n",
       "    </tr>\n",
       "    <tr>\n",
       "      <th>7</th>\n",
       "      <td>tropical fruit</td>\n",
       "      <td>1032</td>\n",
       "      <td>0.023797</td>\n",
       "      <td>0.288307</td>\n",
       "    </tr>\n",
       "    <tr>\n",
       "      <th>8</th>\n",
       "      <td>shopping bags</td>\n",
       "      <td>969</td>\n",
       "      <td>0.022344</td>\n",
       "      <td>0.310651</td>\n",
       "    </tr>\n",
       "    <tr>\n",
       "      <th>9</th>\n",
       "      <td>sausage</td>\n",
       "      <td>924</td>\n",
       "      <td>0.021307</td>\n",
       "      <td>0.331957</td>\n",
       "    </tr>\n",
       "    <tr>\n",
       "      <th>10</th>\n",
       "      <td>pastry</td>\n",
       "      <td>875</td>\n",
       "      <td>0.020177</td>\n",
       "      <td>0.352134</td>\n",
       "    </tr>\n",
       "    <tr>\n",
       "      <th>11</th>\n",
       "      <td>citrus fruit</td>\n",
       "      <td>814</td>\n",
       "      <td>0.018770</td>\n",
       "      <td>0.370904</td>\n",
       "    </tr>\n",
       "    <tr>\n",
       "      <th>12</th>\n",
       "      <td>bottled beer</td>\n",
       "      <td>792</td>\n",
       "      <td>0.018263</td>\n",
       "      <td>0.389167</td>\n",
       "    </tr>\n",
       "    <tr>\n",
       "      <th>13</th>\n",
       "      <td>newspapers</td>\n",
       "      <td>785</td>\n",
       "      <td>0.018101</td>\n",
       "      <td>0.407268</td>\n",
       "    </tr>\n",
       "    <tr>\n",
       "      <th>14</th>\n",
       "      <td>canned beer</td>\n",
       "      <td>764</td>\n",
       "      <td>0.017617</td>\n",
       "      <td>0.424885</td>\n",
       "    </tr>\n",
       "    <tr>\n",
       "      <th>15</th>\n",
       "      <td>pip fruit</td>\n",
       "      <td>744</td>\n",
       "      <td>0.017156</td>\n",
       "      <td>0.442041</td>\n",
       "    </tr>\n",
       "    <tr>\n",
       "      <th>16</th>\n",
       "      <td>fruit/vegetable juice</td>\n",
       "      <td>711</td>\n",
       "      <td>0.016395</td>\n",
       "      <td>0.458436</td>\n",
       "    </tr>\n",
       "    <tr>\n",
       "      <th>17</th>\n",
       "      <td>whipped/sour cream</td>\n",
       "      <td>705</td>\n",
       "      <td>0.016257</td>\n",
       "      <td>0.474693</td>\n",
       "    </tr>\n",
       "    <tr>\n",
       "      <th>18</th>\n",
       "      <td>brown bread</td>\n",
       "      <td>638</td>\n",
       "      <td>0.014712</td>\n",
       "      <td>0.489404</td>\n",
       "    </tr>\n",
       "  </tbody>\n",
       "</table>\n",
       "</div>"
      ],
      "text/plain": [
       "                item_name  item_count  item_perc  total_perc\n",
       "0              whole milk        2513   0.057947    0.057947\n",
       "1        other vegetables        1903   0.043881    0.101829\n",
       "2              rolls/buns        1809   0.041714    0.143542\n",
       "3                    soda        1715   0.039546    0.183089\n",
       "4                  yogurt        1372   0.031637    0.214725\n",
       "5           bottled water        1087   0.025065    0.239791\n",
       "6         root vegetables        1072   0.024719    0.264510\n",
       "7          tropical fruit        1032   0.023797    0.288307\n",
       "8           shopping bags         969   0.022344    0.310651\n",
       "9                 sausage         924   0.021307    0.331957\n",
       "10                 pastry         875   0.020177    0.352134\n",
       "11           citrus fruit         814   0.018770    0.370904\n",
       "12           bottled beer         792   0.018263    0.389167\n",
       "13             newspapers         785   0.018101    0.407268\n",
       "14            canned beer         764   0.017617    0.424885\n",
       "15              pip fruit         744   0.017156    0.442041\n",
       "16  fruit/vegetable juice         711   0.016395    0.458436\n",
       "17     whipped/sour cream         705   0.016257    0.474693\n",
       "18            brown bread         638   0.014712    0.489404"
      ]
     },
     "execution_count": 22,
     "metadata": {},
     "output_type": "execute_result"
    }
   ],
   "source": [
    "# only the top 20 items are responsible for over 50% of the sales!\n",
    "item_summary_df[item_summary_df.total_perc <= 0.5]"
   ]
  },
  {
   "cell_type": "markdown",
   "metadata": {},
   "source": [
    "# Construct Orange Table"
   ]
  },
  {
   "cell_type": "code",
   "execution_count": 25,
   "metadata": {},
   "outputs": [],
   "source": [
    "# Define the domain of each variable\n",
    "# domain means the possible set of values that each variables can use. \n",
    "\n",
    "import_assoc_rules = grocery_df\n",
    "domain_grocery = Domain([DiscreteVariable.make(name = item,\n",
    "                                               values = ['0', '1'])for item in import_assoc_rules.columns])\n",
    "data_gro_1 = Orange.data.Table.from_numpy(domain = domain_grocery,\n",
    "                                          X = import_assoc_rules.as_matrix(),\n",
    "                                          Y = None)\n"
   ]
  },
  {
   "cell_type": "markdown",
   "metadata": {},
   "source": [
    "## Prune Dataset for frequently purchased items"
   ]
  },
  {
   "cell_type": "code",
   "execution_count": 28,
   "metadata": {},
   "outputs": [],
   "source": [
    "def prune_dataset(input_df,\n",
    "                  length_trans = 2,\n",
    "                  total_sales_perc = 0.5,\n",
    "                  start_item = None,\n",
    "                  end_item = None):\n",
    "    \n",
    "    if 'total_items' in input_df.columns:\n",
    "        del(input_df['total_items'])\n",
    "    \n",
    "    item_count = input_df.sum().sort_values(ascending = False).reset_index()\n",
    "    total_items = sum(input_df.sum().sort_values(ascending = False))\n",
    "    item_count.rename(columns = {item_count.columns[0]: 'item_name', \n",
    "                                 item_count.columns[1]: 'item_count'},\n",
    "                      inplace = True)\n",
    "    \n",
    "    if not start_item and not end_item:\n",
    "        item_count['item_perc'] = item_count['item_count'] / total_items\n",
    "        item_count['total_perc'] = item_count.item_perc.cumsum()\n",
    "        selected_items = list(item_count[item_count.total_perc < total_sales_perc].item_name)\n",
    "        input_df['total_items'] = input_df[selected_items].sum(axis = 1)\n",
    "        input_df = input_df[input_df.total_items >= length_trans]\n",
    "        del(input_df['total_items'])\n",
    "        return input_df[selected_items], item_count[item_count.total_perc < total_sales_perc]\n",
    "    \n",
    "    elif end_item > start_item:\n",
    "        selected_items = list(item_count[start_item:end_item].item_name)\n",
    "        input_df['total_items'] = input_df[selected_items].sum(axis = 1)\n",
    "        input_df = input_df[input_df.total_items >= length_trans]\n",
    "        del(input_df['total_items'])\n",
    "        return input_df[selected_items], item_count[start_item:end_item]\n"
   ]
  },
  {
   "cell_type": "code",
   "execution_count": 30,
   "metadata": {},
   "outputs": [
    {
     "name": "stdout",
     "output_type": "stream",
     "text": [
      "(4585, 13)\n",
      "['whole milk', 'other vegetables', 'rolls/buns', 'soda', 'yogurt', 'bottled water', 'root vegetables', 'tropical fruit', 'shopping bags', 'sausage', 'pastry', 'citrus fruit', 'bottled beer']\n"
     ]
    }
   ],
   "source": [
    "output_df, item_counts = prune_dataset(input_df = grocery_df, \n",
    "                                       length_trans = 2,\n",
    "                                       total_sales_perc = 0.4)\n",
    "print(output_df.shape)\n",
    "print(list(output_df.columns))\n",
    "\n",
    "#we have only 13 items responsible for 40% of sales \n",
    "# and 4585 transactions that have those items along with other items \n"
   ]
  },
  {
   "cell_type": "code",
   "execution_count": 31,
   "metadata": {
    "collapsed": true
   },
   "outputs": [],
   "source": [
    "input_assoc_rules = output_df\n",
    "domain_grocery = Domain([DiscreteVariable.make(name = item,\n",
    "                                               values = ['0', '1']) for item in input_assoc_rules.columns])\n",
    "data_gro_1 = Orange.data.Table.from_numpy(domain = domain_grocery,\n",
    "                                          X = input_assoc_rules.as_matrix(),\n",
    "                                          Y = None)\n",
    "data_gro_en, mapping = OneHot.encode(data_gro_1, \n",
    "                                     include_class = False)"
   ]
  },
  {
   "cell_type": "code",
   "execution_count": 33,
   "metadata": {},
   "outputs": [
    {
     "name": "stdout",
     "output_type": "stream",
     "text": [
      "num of required transactions =  45\n"
     ]
    }
   ],
   "source": [
    "min_support = 0.01\n",
    "print(\"num of required transactions = \", int(input_assoc_rules.shape[0] * min_support))\n",
    "num_trans = input_assoc_rules.shape[0] * min_support\n",
    "itemsets = dict(frequent_itemsets(data_gro_en, min_support = min_support))\n"
   ]
  },
  {
   "cell_type": "code",
   "execution_count": 34,
   "metadata": {},
   "outputs": [
    {
     "data": {
      "text/plain": [
       "166886"
      ]
     },
     "execution_count": 34,
     "metadata": {},
     "output_type": "execute_result"
    }
   ],
   "source": [
    "len(itemsets)"
   ]
  },
  {
   "cell_type": "code",
   "execution_count": 36,
   "metadata": {},
   "outputs": [
    {
     "name": "stdout",
     "output_type": "stream",
     "text": [
      "Raw rules data frame of 16628 rules generated\n"
     ]
    }
   ],
   "source": [
    "# Specify a confidence value and generate rules\n",
    "confidence = 0.3\n",
    "rules_df = pd.DataFrame()\n",
    "\n",
    "if len(itemsets) < 1000000:\n",
    "    rules = [(P, Q, supp, conf) for P, Q, supp, conf in association_rules(itemsets, confidence) if len(Q) == 1]\n",
    "    names = {item: '{} = {}'.format(var.name, val) for item, var, val in OneHot.decode(mapping, data_gro_1, mapping)}\n",
    "    \n",
    "    eligible_ante = [v for k, v in names.items() if v.endswith('1')]\n",
    "    N = input_assoc_rules.shape[0] * 0.5\n",
    "    rule_stats = list(rules_stats(rules, itemsets, N))\n",
    "    rule_list_df = []\n",
    "    \n",
    "    for ex_rule_frm_rule_stat in rule_stats:\n",
    "        ante = ex_rule_frm_rule_stat[0]\n",
    "        cons = ex_rule_frm_rule_stat[1]\n",
    "        named_cons = names[next(iter(cons))]\n",
    "        if named_cons in eligible_ante:\n",
    "            rule_lhs = [names[i][:-2] for i in ante if names[i] in eligible_ante]\n",
    "            ante_rule = ', '.join(rule_lhs)\n",
    "            \n",
    "            if ante_rule and len(rule_lhs) > 1:\n",
    "                rule_dict = {'support' : ex_rule_frm_rule_stat[2],\n",
    "                             'confidence' : ex_rule_frm_rule_stat[3],\n",
    "                             'converge' : ex_rule_frm_rule_stat[4],\n",
    "                             'strength': ex_rule_frm_rule_stat[5],\n",
    "                             'lift': ex_rule_frm_rule_stat[6],\n",
    "                             'leverage': ex_rule_frm_rule_stat[7],\n",
    "                             'antecedent': ante_rule,\n",
    "                             'consequent': named_cons[:-2]}\n",
    "                rule_list_df.append(rule_dict)\n",
    "            \n",
    "    rules_df = pd.DataFrame(rule_list_df)\n",
    "    print('Raw rules data frame of {} rules generated'. format(rules_df.shape[0]))\n",
    "    if not rules_df.empty:\n",
    "        prune_rules_df = rules_df.groupby(['antecedent', 'consequent']).max().reset_index()\n",
    "    else:\n",
    "        print('Unable to generate any rule')\n",
    "    "
   ]
  },
  {
   "cell_type": "markdown",
   "metadata": {},
   "source": [
    "## Sorting rules in our Grocery Dataset"
   ]
  },
  {
   "cell_type": "code",
   "execution_count": 37,
   "metadata": {},
   "outputs": [
    {
     "data": {
      "text/html": [
       "<div>\n",
       "<style>\n",
       "    .dataframe thead tr:only-child th {\n",
       "        text-align: right;\n",
       "    }\n",
       "\n",
       "    .dataframe thead th {\n",
       "        text-align: left;\n",
       "    }\n",
       "\n",
       "    .dataframe tbody tr th {\n",
       "        vertical-align: top;\n",
       "    }\n",
       "</style>\n",
       "<table border=\"1\" class=\"dataframe\">\n",
       "  <thead>\n",
       "    <tr style=\"text-align: right;\">\n",
       "      <th></th>\n",
       "      <th>consequent</th>\n",
       "      <th>antecedent</th>\n",
       "      <th>support</th>\n",
       "      <th>confidence</th>\n",
       "      <th>lift</th>\n",
       "    </tr>\n",
       "  </thead>\n",
       "  <tbody>\n",
       "    <tr>\n",
       "      <th>4</th>\n",
       "      <td>root vegetables =</td>\n",
       "      <td>yogurt =, whole milk =, tropical fruit =</td>\n",
       "      <td>228</td>\n",
       "      <td>0.463636</td>\n",
       "      <td>1.115306</td>\n",
       "    </tr>\n",
       "    <tr>\n",
       "      <th>5</th>\n",
       "      <td>sausage =</td>\n",
       "      <td>shopping bags =, rolls/buns =</td>\n",
       "      <td>59</td>\n",
       "      <td>0.393162</td>\n",
       "      <td>1.100519</td>\n",
       "    </tr>\n",
       "    <tr>\n",
       "      <th>8</th>\n",
       "      <td>tropical fruit =</td>\n",
       "      <td>yogurt =, root vegetables =, whole milk =</td>\n",
       "      <td>92</td>\n",
       "      <td>0.429907</td>\n",
       "      <td>1.078294</td>\n",
       "    </tr>\n",
       "    <tr>\n",
       "      <th>1</th>\n",
       "      <td>citrus fruit =</td>\n",
       "      <td>whole milk =, other vegetables =, tropical fru...</td>\n",
       "      <td>66</td>\n",
       "      <td>0.333333</td>\n",
       "      <td>1.062819</td>\n",
       "    </tr>\n",
       "    <tr>\n",
       "      <th>10</th>\n",
       "      <td>yogurt =</td>\n",
       "      <td>whole milk =, tropical fruit =</td>\n",
       "      <td>199</td>\n",
       "      <td>0.484211</td>\n",
       "      <td>0.945530</td>\n",
       "    </tr>\n",
       "    <tr>\n",
       "      <th>2</th>\n",
       "      <td>other vegetables =</td>\n",
       "      <td>yogurt =, whole milk =, tropical fruit =</td>\n",
       "      <td>228</td>\n",
       "      <td>0.643836</td>\n",
       "      <td>0.913362</td>\n",
       "    </tr>\n",
       "    <tr>\n",
       "      <th>6</th>\n",
       "      <td>shopping bags =</td>\n",
       "      <td>soda =, sausage =</td>\n",
       "      <td>50</td>\n",
       "      <td>0.304878</td>\n",
       "      <td>0.891496</td>\n",
       "    </tr>\n",
       "    <tr>\n",
       "      <th>0</th>\n",
       "      <td>bottled water =</td>\n",
       "      <td>yogurt =, soda =</td>\n",
       "      <td>59</td>\n",
       "      <td>0.333333</td>\n",
       "      <td>0.853818</td>\n",
       "    </tr>\n",
       "    <tr>\n",
       "      <th>9</th>\n",
       "      <td>whole milk =</td>\n",
       "      <td>yogurt =, tropical fruit =</td>\n",
       "      <td>228</td>\n",
       "      <td>0.754098</td>\n",
       "      <td>0.851611</td>\n",
       "    </tr>\n",
       "    <tr>\n",
       "      <th>3</th>\n",
       "      <td>rolls/buns =</td>\n",
       "      <td>yogurt =, whole milk =, tropical fruit =</td>\n",
       "      <td>97</td>\n",
       "      <td>0.522222</td>\n",
       "      <td>0.839547</td>\n",
       "    </tr>\n",
       "    <tr>\n",
       "      <th>7</th>\n",
       "      <td>soda =</td>\n",
       "      <td>yogurt =, sausage =</td>\n",
       "      <td>95</td>\n",
       "      <td>0.390625</td>\n",
       "      <td>0.699069</td>\n",
       "    </tr>\n",
       "  </tbody>\n",
       "</table>\n",
       "</div>"
      ],
      "text/plain": [
       "            consequent                                         antecedent  \\\n",
       "4    root vegetables =           yogurt =, whole milk =, tropical fruit =   \n",
       "5            sausage =                      shopping bags =, rolls/buns =   \n",
       "8     tropical fruit =          yogurt =, root vegetables =, whole milk =   \n",
       "1       citrus fruit =  whole milk =, other vegetables =, tropical fru...   \n",
       "10            yogurt =                     whole milk =, tropical fruit =   \n",
       "2   other vegetables =           yogurt =, whole milk =, tropical fruit =   \n",
       "6      shopping bags =                                  soda =, sausage =   \n",
       "0      bottled water =                                   yogurt =, soda =   \n",
       "9         whole milk =                         yogurt =, tropical fruit =   \n",
       "3         rolls/buns =           yogurt =, whole milk =, tropical fruit =   \n",
       "7               soda =                                yogurt =, sausage =   \n",
       "\n",
       "    support  confidence      lift  \n",
       "4       228    0.463636  1.115306  \n",
       "5        59    0.393162  1.100519  \n",
       "8        92    0.429907  1.078294  \n",
       "1        66    0.333333  1.062819  \n",
       "10      199    0.484211  0.945530  \n",
       "2       228    0.643836  0.913362  \n",
       "6        50    0.304878  0.891496  \n",
       "0        59    0.333333  0.853818  \n",
       "9       228    0.754098  0.851611  \n",
       "3        97    0.522222  0.839547  \n",
       "7        95    0.390625  0.699069  "
      ]
     },
     "execution_count": 37,
     "metadata": {},
     "output_type": "execute_result"
    }
   ],
   "source": [
    "prune_rules_df[['antecedent', \n",
    "                 'consequent', \n",
    "                 'support', \n",
    "                 'confidence', \n",
    "                 'lift']].groupby('consequent').max().reset_index().sort_values(['lift',\n",
    "                                                                                 'support',\n",
    "                                                                                 'confidence'],\n",
    "                                                                                ascending = False)\n",
    "                                \n",
    "\n",
    "\n"
   ]
  },
  {
   "cell_type": "code",
   "execution_count": null,
   "metadata": {
    "collapsed": true
   },
   "outputs": [],
   "source": [
    "'''\n",
    "The first pattern that the rule states in the equation is easy to understand\n",
    "people who bought yogurt, whole milk, and tropical fruit also tend to buy root vegetables. \n",
    "'''"
   ]
  },
  {
   "cell_type": "code",
   "execution_count": null,
   "metadata": {
    "collapsed": true
   },
   "outputs": [],
   "source": []
  }
 ],
 "metadata": {
  "kernelspec": {
   "display_name": "Python 3",
   "language": "python",
   "name": "python3"
  },
  "language_info": {
   "codemirror_mode": {
    "name": "ipython",
    "version": 3
   },
   "file_extension": ".py",
   "mimetype": "text/x-python",
   "name": "python",
   "nbconvert_exporter": "python",
   "pygments_lexer": "ipython3",
   "version": "3.6.1"
  }
 },
 "nbformat": 4,
 "nbformat_minor": 2
}
