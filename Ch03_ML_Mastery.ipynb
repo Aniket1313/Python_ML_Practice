{
  "nbformat": 4,
  "nbformat_minor": 0,
  "metadata": {
    "colab": {
      "name": "Ch03_ML_Mastery.ipynb",
      "provenance": [],
      "authorship_tag": "ABX9TyMNFHo07lcP7KbM697BqIyP",
      "include_colab_link": true
    },
    "kernelspec": {
      "name": "python3",
      "display_name": "Python 3"
    }
  },
  "cells": [
    {
      "cell_type": "markdown",
      "metadata": {
        "id": "view-in-github",
        "colab_type": "text"
      },
      "source": [
        "<a href=\"https://colab.research.google.com/github/Aniket1313/Python_ML_Practice/blob/master/Ch03_ML_Mastery.ipynb\" target=\"_parent\"><img src=\"https://colab.research.google.com/assets/colab-badge.svg\" alt=\"Open In Colab\"/></a>"
      ]
    },
    {
      "cell_type": "markdown",
      "metadata": {
        "id": "7N5CJYu8H5cS"
      },
      "source": [
        "Ch-03 Crash Course in Python"
      ]
    },
    {
      "cell_type": "code",
      "metadata": {
        "id": "BvCTzJw0H_DS",
        "outputId": "157aa6dd-7b35-40a9-8aa5-c4afd6a7c33b",
        "colab": {
          "base_uri": "https://localhost:8080/",
          "height": 68
        }
      },
      "source": [
        "#Strings\n",
        "\n",
        "data = 'hello world'\n",
        "print(data[0])\n",
        "print(len(data))\n",
        "print(data)"
      ],
      "execution_count": 1,
      "outputs": [
        {
          "output_type": "stream",
          "text": [
            "h\n",
            "11\n",
            "hello world\n"
          ],
          "name": "stdout"
        }
      ]
    },
    {
      "cell_type": "code",
      "metadata": {
        "id": "Pvv3JKZ-IRxs",
        "outputId": "2ad87144-78e9-4ea7-dc90-037df56166bd",
        "colab": {
          "base_uri": "https://localhost:8080/",
          "height": 35
        }
      },
      "source": [
        "data[:5]"
      ],
      "execution_count": 2,
      "outputs": [
        {
          "output_type": "execute_result",
          "data": {
            "application/vnd.google.colaboratory.intrinsic+json": {
              "type": "string"
            },
            "text/plain": [
              "'hello'"
            ]
          },
          "metadata": {
            "tags": []
          },
          "execution_count": 2
        }
      ]
    },
    {
      "cell_type": "code",
      "metadata": {
        "id": "nHvvvT8CIWtj",
        "outputId": "0cd12fb9-9f34-4de9-ed68-37318ca8ccda",
        "colab": {
          "base_uri": "https://localhost:8080/",
          "height": 35
        }
      },
      "source": [
        "data[:8]"
      ],
      "execution_count": 4,
      "outputs": [
        {
          "output_type": "execute_result",
          "data": {
            "application/vnd.google.colaboratory.intrinsic+json": {
              "type": "string"
            },
            "text/plain": [
              "'hello wo'"
            ]
          },
          "metadata": {
            "tags": []
          },
          "execution_count": 4
        }
      ]
    },
    {
      "cell_type": "code",
      "metadata": {
        "id": "QmJaCSmBIZZy",
        "outputId": "c4e805d5-74e7-480d-ca55-307eb3bfbe24",
        "colab": {
          "base_uri": "https://localhost:8080/",
          "height": 51
        }
      },
      "source": [
        "value = 123.1\n",
        "print(value)\n",
        "value =10\n",
        "print(value)"
      ],
      "execution_count": 6,
      "outputs": [
        {
          "output_type": "stream",
          "text": [
            "123.1\n",
            "10\n"
          ],
          "name": "stdout"
        }
      ]
    },
    {
      "cell_type": "code",
      "metadata": {
        "id": "JrsVnD6pItbZ",
        "outputId": "bd2e3980-b021-4ba4-8ab9-518295cd0b55",
        "colab": {
          "base_uri": "https://localhost:8080/",
          "height": 34
        }
      },
      "source": [
        "#Boolean\n",
        "a =True\n",
        "b =False\n",
        "print(a,b)"
      ],
      "execution_count": 7,
      "outputs": [
        {
          "output_type": "stream",
          "text": [
            "True False\n"
          ],
          "name": "stdout"
        }
      ]
    },
    {
      "cell_type": "code",
      "metadata": {
        "id": "o4Cx-9yeI0Q2",
        "outputId": "81c78329-da99-46e9-9790-5c468b8f23ce",
        "colab": {
          "base_uri": "https://localhost:8080/",
          "height": 34
        }
      },
      "source": [
        "a,b,c =1,2,3\n",
        "print(a,b,c)"
      ],
      "execution_count": 8,
      "outputs": [
        {
          "output_type": "stream",
          "text": [
            "1 2 3\n"
          ],
          "name": "stdout"
        }
      ]
    },
    {
      "cell_type": "code",
      "metadata": {
        "id": "o6wttY66I6Qs",
        "outputId": "c1c7deba-d8f1-48a8-da6d-264bcc8c3a32",
        "colab": {
          "base_uri": "https://localhost:8080/",
          "height": 34
        }
      },
      "source": [
        "a = None\n",
        "print(a)"
      ],
      "execution_count": 9,
      "outputs": [
        {
          "output_type": "stream",
          "text": [
            "None\n"
          ],
          "name": "stdout"
        }
      ]
    },
    {
      "cell_type": "code",
      "metadata": {
        "id": "zIfeGlrFI_nu",
        "outputId": "6509a1e6-9fe5-4226-fcb7-d34f48f9df45",
        "colab": {
          "base_uri": "https://localhost:8080/",
          "height": 34
        }
      },
      "source": [
        "#If else Condtional \n",
        "\n",
        "value = 99 \n",
        "if value == 99:\n",
        "  print('That is fast')\n",
        "elif value>200:\n",
        "  print('That is too fast')\n",
        "else:\n",
        "  print('That is safe')"
      ],
      "execution_count": 10,
      "outputs": [
        {
          "output_type": "stream",
          "text": [
            "That is fast\n"
          ],
          "name": "stdout"
        }
      ]
    },
    {
      "cell_type": "code",
      "metadata": {
        "id": "J4QxWEpkJVvE",
        "outputId": "6fad5088-3ad6-4cb3-9cdc-a1ad67ad9bee",
        "colab": {
          "base_uri": "https://localhost:8080/",
          "height": 204
        }
      },
      "source": [
        "#For loop \n",
        "for i in range(11):\n",
        "  print(i)"
      ],
      "execution_count": 14,
      "outputs": [
        {
          "output_type": "stream",
          "text": [
            "0\n",
            "1\n",
            "2\n",
            "3\n",
            "4\n",
            "5\n",
            "6\n",
            "7\n",
            "8\n",
            "9\n",
            "10\n"
          ],
          "name": "stdout"
        }
      ]
    },
    {
      "cell_type": "code",
      "metadata": {
        "id": "_iiszphaJa8J",
        "outputId": "47287cba-cc30-4d44-e80f-898988e68183",
        "colab": {
          "base_uri": "https://localhost:8080/",
          "height": 119
        }
      },
      "source": [
        "for i in range(5,11):\n",
        "  print(i)"
      ],
      "execution_count": 17,
      "outputs": [
        {
          "output_type": "stream",
          "text": [
            "5\n",
            "6\n",
            "7\n",
            "8\n",
            "9\n",
            "10\n"
          ],
          "name": "stdout"
        }
      ]
    },
    {
      "cell_type": "code",
      "metadata": {
        "id": "Zt6QnI7aJiAq"
      },
      "source": [
        "mylist = [1,2,3]\n"
      ],
      "execution_count": 28,
      "outputs": []
    },
    {
      "cell_type": "code",
      "metadata": {
        "id": "imcLIqkUKaH0"
      },
      "source": [
        "mylist.append(4)"
      ],
      "execution_count": 23,
      "outputs": []
    },
    {
      "cell_type": "code",
      "metadata": {
        "id": "s63IgktuK6S8",
        "outputId": "ce059bb9-1c1f-4d2f-84bb-487fa8d2318f",
        "colab": {
          "base_uri": "https://localhost:8080/",
          "height": 34
        }
      },
      "source": [
        "mylist"
      ],
      "execution_count": 25,
      "outputs": [
        {
          "output_type": "execute_result",
          "data": {
            "text/plain": [
              "[1, 2, 3, 4]"
            ]
          },
          "metadata": {
            "tags": []
          },
          "execution_count": 25
        }
      ]
    },
    {
      "cell_type": "code",
      "metadata": {
        "id": "0HSiyv-aK-5k"
      },
      "source": [
        "mylist.append(7)"
      ],
      "execution_count": 26,
      "outputs": []
    },
    {
      "cell_type": "code",
      "metadata": {
        "id": "daXjDWJ6LGZR",
        "outputId": "e04cc468-129c-46e2-8b07-457152c30f74",
        "colab": {
          "base_uri": "https://localhost:8080/",
          "height": 34
        }
      },
      "source": [
        "mylist"
      ],
      "execution_count": 27,
      "outputs": [
        {
          "output_type": "execute_result",
          "data": {
            "text/plain": [
              "[1, 2, 3, 4, 7]"
            ]
          },
          "metadata": {
            "tags": []
          },
          "execution_count": 27
        }
      ]
    },
    {
      "cell_type": "code",
      "metadata": {
        "id": "Np8-gnc3LHin",
        "outputId": "58423ab2-73a6-498b-bd5e-af439f0a2b69",
        "colab": {
          "base_uri": "https://localhost:8080/",
          "height": 187
        }
      },
      "source": [
        "#While loop\n",
        "\n",
        "i=0\n",
        "while i<10:\n",
        "  print(i) \n",
        "  i+=1"
      ],
      "execution_count": 30,
      "outputs": [
        {
          "output_type": "stream",
          "text": [
            "0\n",
            "1\n",
            "2\n",
            "3\n",
            "4\n",
            "5\n",
            "6\n",
            "7\n",
            "8\n",
            "9\n"
          ],
          "name": "stdout"
        }
      ]
    },
    {
      "cell_type": "code",
      "metadata": {
        "id": "zJL44JE5QzJA",
        "outputId": "8185d9bf-92c6-45bd-876c-816254afc5a8",
        "colab": {
          "base_uri": "https://localhost:8080/",
          "height": 34
        }
      },
      "source": [
        "#Tuple\n",
        "#read only collections\n",
        "\n",
        "a=(1,2,3)\n",
        "print(a)"
      ],
      "execution_count": 34,
      "outputs": [
        {
          "output_type": "stream",
          "text": [
            "(1, 2, 3)\n"
          ],
          "name": "stdout"
        }
      ]
    },
    {
      "cell_type": "code",
      "metadata": {
        "id": "gMWMToAkQ9is",
        "outputId": "e2fdaa05-ce4f-459c-be29-0310c2d32a42",
        "colab": {
          "base_uri": "https://localhost:8080/",
          "height": 34
        }
      },
      "source": [
        "mydict ={'a':1,'b':2,'c':3}\n",
        "print(\"A value: %d\")"
      ],
      "execution_count": 35,
      "outputs": [
        {
          "output_type": "stream",
          "text": [
            "A value: %d\n"
          ],
          "name": "stdout"
        }
      ]
    },
    {
      "cell_type": "code",
      "metadata": {
        "id": "Say8HQsQRYwM"
      },
      "source": [
        "mydict['a']=11"
      ],
      "execution_count": 36,
      "outputs": []
    },
    {
      "cell_type": "code",
      "metadata": {
        "id": "lxTs4lHIRc-B",
        "outputId": "34651be8-0bb4-4c90-b578-0271545678f1",
        "colab": {
          "base_uri": "https://localhost:8080/",
          "height": 34
        }
      },
      "source": [
        "print(\"A value:%d\") "
      ],
      "execution_count": 39,
      "outputs": [
        {
          "output_type": "stream",
          "text": [
            "A value:%d\n"
          ],
          "name": "stdout"
        }
      ]
    },
    {
      "cell_type": "code",
      "metadata": {
        "id": "lZE-lzLmR0pt",
        "outputId": "b31a9bbd-08ba-4a6a-ba0e-e41fb0f44507",
        "colab": {
          "base_uri": "https://localhost:8080/",
          "height": 34
        }
      },
      "source": [
        "mydict"
      ],
      "execution_count": 41,
      "outputs": [
        {
          "output_type": "execute_result",
          "data": {
            "text/plain": [
              "{'a': 11, 'b': 2, 'c': 3}"
            ]
          },
          "metadata": {
            "tags": []
          },
          "execution_count": 41
        }
      ]
    },
    {
      "cell_type": "code",
      "metadata": {
        "id": "Ey7zyH4GRmQm",
        "outputId": "433bc204-81dd-4666-bb1e-96671adf9317",
        "colab": {
          "base_uri": "https://localhost:8080/",
          "height": 68
        }
      },
      "source": [
        "for key in mydict.keys():\n",
        "  print(mydict[key])"
      ],
      "execution_count": 40,
      "outputs": [
        {
          "output_type": "stream",
          "text": [
            "11\n",
            "2\n",
            "3\n"
          ],
          "name": "stdout"
        }
      ]
    },
    {
      "cell_type": "code",
      "metadata": {
        "id": "-ECWn52jRyKy"
      },
      "source": [
        "#FUNCTION \n",
        "\n",
        "def mysum(x,y):\n",
        "  return x+y"
      ],
      "execution_count": 44,
      "outputs": []
    },
    {
      "cell_type": "code",
      "metadata": {
        "id": "imzZqxyiSTzI",
        "outputId": "94307225-ca3e-4919-b52f-dc465b30f147",
        "colab": {
          "base_uri": "https://localhost:8080/",
          "height": 34
        }
      },
      "source": [
        "mysum(5,11)"
      ],
      "execution_count": 43,
      "outputs": [
        {
          "output_type": "execute_result",
          "data": {
            "text/plain": [
              "16"
            ]
          },
          "metadata": {
            "tags": []
          },
          "execution_count": 43
        }
      ]
    },
    {
      "cell_type": "code",
      "metadata": {
        "id": "twZkdCcfSWb1",
        "outputId": "4b54aa28-efd3-4e04-d40d-40eb905cbfaf",
        "colab": {
          "base_uri": "https://localhost:8080/",
          "height": 34
        }
      },
      "source": [
        "#NumPy Array\n",
        "\n",
        "import numpy as np\n",
        "mylist =[1,2,3]\n",
        "myarray = np.array(mylist)\n",
        "print(myarray)"
      ],
      "execution_count": 47,
      "outputs": [
        {
          "output_type": "stream",
          "text": [
            "[1 2 3]\n"
          ],
          "name": "stdout"
        }
      ]
    },
    {
      "cell_type": "code",
      "metadata": {
        "id": "AkOOr3XnStRf",
        "outputId": "20975f07-d8cc-464b-a15c-926ccca2b922",
        "colab": {
          "base_uri": "https://localhost:8080/",
          "height": 34
        }
      },
      "source": [
        "myarray.shape"
      ],
      "execution_count": 48,
      "outputs": [
        {
          "output_type": "execute_result",
          "data": {
            "text/plain": [
              "(3,)"
            ]
          },
          "metadata": {
            "tags": []
          },
          "execution_count": 48
        }
      ]
    },
    {
      "cell_type": "code",
      "metadata": {
        "id": "Zc8Nh15LS0T4",
        "outputId": "de188613-77b8-48c8-d56f-903e99e60fbf",
        "colab": {
          "base_uri": "https://localhost:8080/",
          "height": 51
        }
      },
      "source": [
        "#Access Data\n",
        "\n",
        "import numpy\n",
        "mylist = [[1,2,3],[3,4,5]]\n",
        "myarray = np.array(mylist)\n",
        "print(myarray)"
      ],
      "execution_count": 49,
      "outputs": [
        {
          "output_type": "stream",
          "text": [
            "[[1 2 3]\n",
            " [3 4 5]]\n"
          ],
          "name": "stdout"
        }
      ]
    },
    {
      "cell_type": "code",
      "metadata": {
        "id": "71da8O2XTDSA",
        "outputId": "697ef049-2e55-4328-d95c-ac6e1f6410e5",
        "colab": {
          "base_uri": "https://localhost:8080/",
          "height": 34
        }
      },
      "source": [
        "print(myarray.shape)"
      ],
      "execution_count": 50,
      "outputs": [
        {
          "output_type": "stream",
          "text": [
            "(2, 3)\n"
          ],
          "name": "stdout"
        }
      ]
    },
    {
      "cell_type": "code",
      "metadata": {
        "id": "Jbx17BNiTE-w"
      },
      "source": [
        "#Arithmetic\n",
        "\n",
        "import numpy as np\n",
        "myarray1 = np.array([2,2,2])\n",
        "myarray2 = np.array([3,3,3])\n",
        "\n"
      ],
      "execution_count": 51,
      "outputs": []
    },
    {
      "cell_type": "code",
      "metadata": {
        "id": "BFGOzGsLTUVq",
        "outputId": "073279de-18c6-447b-fcd0-70d3da79f7f8",
        "colab": {
          "base_uri": "https://localhost:8080/",
          "height": 51
        }
      },
      "source": [
        "print(\"Addition :%s\")\n",
        "print(\"Multiplication: %s\")"
      ],
      "execution_count": 52,
      "outputs": [
        {
          "output_type": "stream",
          "text": [
            "Addition :%s\n",
            "Multiplication: %s\n"
          ],
          "name": "stdout"
        }
      ]
    },
    {
      "cell_type": "code",
      "metadata": {
        "id": "Dsx2DGSdT7bb",
        "outputId": "28b036cb-660f-449e-8a75-b9a58373394c",
        "colab": {
          "base_uri": "https://localhost:8080/",
          "height": 279
        }
      },
      "source": [
        "#3.3 Matplotlib \n",
        "import matplotlib.pyplot as plt\n",
        "import numpy\n",
        "myarray = np.array([1,2,3])\n",
        "plt.plot(myarray)\n",
        "plt.xlabel('some x axis')\n",
        "plt.ylabel('some y axis')\n",
        "plt.show()"
      ],
      "execution_count": 53,
      "outputs": [
        {
          "output_type": "display_data",
          "data": {
            "image/png": "[encoded data removed]",
            "text/plain": [
              "<Figure size 432x288 with 1 Axes>"
            ]
          },
          "metadata": {
            "tags": [],
            "needs_background": "light"
          }
        }
      ]
    },
    {
      "cell_type": "code",
      "metadata": {
        "id": "Y8OH8IksUWmh",
        "outputId": "80ffea0d-72a5-41e0-d455-02da99638a89",
        "colab": {
          "base_uri": "https://localhost:8080/",
          "height": 279
        }
      },
      "source": [
        "#3.3 Matplotlib \n",
        "import matplotlib.pyplot as plt\n",
        "import numpy\n",
        "myarray = np.array([1,12,3,7,8,55,33,22])\n",
        "plt.plot(myarray)\n",
        "plt.xlabel('some x axis')\n",
        "plt.ylabel('some y axis')\n",
        "plt.show()"
      ],
      "execution_count": 54,
      "outputs": [
        {
          "output_type": "display_data",
          "data": {
            "image/png": "[encoded data removed]",
            "text/plain": [
              "<Figure size 432x288 with 1 Axes>"
            ]
          },
          "metadata": {
            "tags": [],
            "needs_background": "light"
          }
        }
      ]
    },
    {
      "cell_type": "code",
      "metadata": {
        "id": "u3f3cv3sUgre",
        "outputId": "3c8ad7d8-2247-405f-f755-3f596816a73e",
        "colab": {
          "base_uri": "https://localhost:8080/",
          "height": 279
        }
      },
      "source": [
        "#Scatter plot\n",
        "\n",
        "import matplotlib.pyplot as plt\n",
        "import numpy as np\n",
        "x= np.array([1,2,3])\n",
        "y= np.array([2,4,6])\n",
        "plt.scatter(x,y)\n",
        "plt.xlabel('some x axis')\n",
        "plt.ylabel('some y axis')\n",
        "plt.show()  "
      ],
      "execution_count": 55,
      "outputs": [
        {
          "output_type": "display_data",
          "data": {
            "image/png": "[encoded data removed]",
            "text/plain": [
              "<Figure size 432x288 with 1 Axes>"
            ]
          },
          "metadata": {
            "tags": [],
            "needs_background": "light"
          }
        }
      ]
    },
    {
      "cell_type": "code",
      "metadata": {
        "id": "9vJrQT4zVK65",
        "outputId": "8d82f13b-3ccc-4fa8-dafc-e9dfc23f0ccd",
        "colab": {
          "base_uri": "https://localhost:8080/",
          "height": 85
        }
      },
      "source": [
        "# Pandas Crash Course \n",
        "\n",
        "import numpy as np\n",
        "import pandas as pd\n",
        "myarray = np.array([1,2,3])\n",
        "rownames=['a','b','c']\n",
        "myseries = pd.Series(myarray,index =rownames)\n",
        "print(myseries)"
      ],
      "execution_count": 56,
      "outputs": [
        {
          "output_type": "stream",
          "text": [
            "a    1\n",
            "b    2\n",
            "c    3\n",
            "dtype: int64\n"
          ],
          "name": "stdout"
        }
      ]
    },
    {
      "cell_type": "markdown",
      "metadata": {
        "id": "hh3RkfsyV-CE"
      },
      "source": [
        "3.4.1 Series\n"
      ]
    },
    {
      "cell_type": "code",
      "metadata": {
        "id": "7aE_7-JoViIe",
        "outputId": "331a6434-9f59-448d-db08-bbc6e952350c",
        "colab": {
          "base_uri": "https://localhost:8080/",
          "height": 51
        }
      },
      "source": [
        "print(myseries[0])\n",
        "print(myseries['a'])"
      ],
      "execution_count": 57,
      "outputs": [
        {
          "output_type": "stream",
          "text": [
            "1\n",
            "1\n"
          ],
          "name": "stdout"
        }
      ]
    },
    {
      "cell_type": "markdown",
      "metadata": {
        "id": "YX1WLzfhWXlp"
      },
      "source": [
        "3.4.2 DataFrame"
      ]
    },
    {
      "cell_type": "code",
      "metadata": {
        "id": "o2cy3peuWVYU",
        "outputId": "7bc820f5-cf48-4e57-fdae-d2ab25610004",
        "colab": {
          "base_uri": "https://localhost:8080/",
          "height": 85
        }
      },
      "source": [
        "#Dateframe\n",
        "\n",
        "import numpy as np\n",
        "import pandas as pd\n",
        "myarray =np.array([[1,2,3],[4,5,6],[6,8,10]])\n",
        "rownames = [\"a\",\"b\",\"c\"]\n",
        "colnames =[\"one\",\"two\",\"three\"]\n",
        "mydataframe = pd.DataFrame(myarray,index = rownames,columns = colnames)\n",
        "print(mydataframe)"
      ],
      "execution_count": 63,
      "outputs": [
        {
          "output_type": "stream",
          "text": [
            "   one  two  three\n",
            "a    1    2      3\n",
            "b    4    5      6\n",
            "c    6    8     10\n"
          ],
          "name": "stdout"
        }
      ]
    },
    {
      "cell_type": "code",
      "metadata": {
        "id": "lLHJTSE-W6ng"
      },
      "source": [
        ""
      ],
      "execution_count": null,
      "outputs": []
    }
  ]
}