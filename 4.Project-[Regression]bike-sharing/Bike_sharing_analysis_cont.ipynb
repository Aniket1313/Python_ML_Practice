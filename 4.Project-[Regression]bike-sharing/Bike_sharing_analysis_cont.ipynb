{
  "nbformat": 4,
  "nbformat_minor": 0,
  "metadata": {
    "colab": {
      "name": "Bike sharing analysis.ipynb",
      "version": "0.3.2",
      "views": {},
      "default_view": {},
      "provenance": []
    }
  },
  "cells": [
    {
      "metadata": {
        "id": "8UMF3HqTqRsl",
        "colab_type": "code",
        "colab": {
          "autoexec": {
            "startup": false,
            "wait_interval": 0
          },
          "base_uri": "https://localhost:8080/",
          "height": 241
        },
        "outputId": "2e5ea671-8fac-4351-b2df-786b2ec485bb",
        "executionInfo": {
          "status": "ok",
          "timestamp": 1524405740235,
          "user_tz": 300,
          "elapsed": 3310,
          "user": {
            "displayName": "Yuwei Chen",
            "photoUrl": "//lh6.googleusercontent.com/-_BYdS2oJnRc/AAAAAAAAAAI/AAAAAAAAABs/Gg4tipBBxA4/s50-c-k-no/photo.jpg",
            "userId": "103314493008660501640"
          }
        }
      },
      "cell_type": "code",
      "source": [
        "!pip install pydotplus"
      ],
      "execution_count": 2,
      "outputs": [
        {
          "output_type": "stream",
          "text": [
            "Collecting pydotplus\n",
            "  Downloading https://files.pythonhosted.org/packages/60/bf/62567830b700d9f6930e9ab6831d6ba256f7b0b730acb37278b0ccdffacf/pydotplus-2.0.2.tar.gz (278kB)\n",
            "\u001b[K    100% |████████████████████████████████| 286kB 3.0MB/s \n",
            "\u001b[?25hRequirement already satisfied: pyparsing>=2.0.1 in /usr/local/lib/python2.7/dist-packages (from pydotplus)\n",
            "Building wheels for collected packages: pydotplus\n",
            "  Running setup.py bdist_wheel for pydotplus ... \u001b[?25l-\b \bdone\n",
            "\u001b[?25h  Stored in directory: /content/.cache/pip/wheels/35/7b/ab/66fb7b2ac1f6df87475b09dc48e707b6e0de80a6d8444e3628\n",
            "Successfully built pydotplus\n",
            "Installing collected packages: pydotplus\n",
            "Successfully installed pydotplus-2.0.2\n",
            "\u001b[33mYou are using pip version 9.0.3, however version 10.0.1 is available.\n",
            "You should consider upgrading via the 'pip install --upgrade pip' command.\u001b[0m\n"
          ],
          "name": "stdout"
        }
      ]
    },
    {
      "metadata": {
        "id": "U-9P4WoZqGeB",
        "colab_type": "code",
        "colab": {
          "autoexec": {
            "startup": false,
            "wait_interval": 0
          },
          "base_uri": "https://localhost:8080/",
          "height": 139
        },
        "outputId": "01201b5d-493a-4eb7-dab2-1ec897b8b395",
        "executionInfo": {
          "status": "ok",
          "timestamp": 1524405744107,
          "user_tz": 300,
          "elapsed": 2226,
          "user": {
            "displayName": "Yuwei Chen",
            "photoUrl": "//lh6.googleusercontent.com/-_BYdS2oJnRc/AAAAAAAAAAI/AAAAAAAAABs/Gg4tipBBxA4/s50-c-k-no/photo.jpg",
            "userId": "103314493008660501640"
          }
        }
      },
      "cell_type": "code",
      "source": [
        "!pip install graphviz"
      ],
      "execution_count": 3,
      "outputs": [
        {
          "output_type": "stream",
          "text": [
            "Collecting graphviz\n",
            "  Downloading https://files.pythonhosted.org/packages/05/e4/8fcc76823534d47f079c0ff1b3d8b57784e8fba63ceb1ded32c9f4dd993c/graphviz-0.8.2-py2.py3-none-any.whl\n",
            "Installing collected packages: graphviz\n",
            "Successfully installed graphviz-0.8.2\n",
            "\u001b[33mYou are using pip version 9.0.3, however version 10.0.1 is available.\n",
            "You should consider upgrading via the 'pip install --upgrade pip' command.\u001b[0m\n"
          ],
          "name": "stdout"
        }
      ]
    },
    {
      "metadata": {
        "id": "6kqUx7hTqX7P",
        "colab_type": "code",
        "colab": {
          "autoexec": {
            "startup": false,
            "wait_interval": 0
          }
        }
      },
      "cell_type": "code",
      "source": [
        "import pandas as pd\n",
        "import numpy as np\n",
        "\n",
        "import pydotplus\n",
        "from sklearn import tree\n",
        "from sklearn import metrics\n",
        "from sklearn import preprocessing\n",
        "from sklearn.tree import DecisionTreeRegressor\n",
        "from sklearn.model_selection import GridSearchCV\n",
        "from sklearn.model_selection import cross_val_score\n",
        "\n",
        "\n",
        "from IPython import display\n",
        "from matplotlib import cm\n",
        "from matplotlib import gridspec\n",
        "%matplotlib inline\n",
        "from matplotlib import pyplot as plt\n",
        "import seaborn as sns\n",
        "\n",
        "pd.options.display.max_rows = 10\n",
        "pd.options.display.float_format = '{:.1f}'.format"
      ],
      "execution_count": 0,
      "outputs": []
    },
    {
      "metadata": {
        "id": "1sckAsKQqgjq",
        "colab_type": "code",
        "colab": {
          "autoexec": {
            "startup": false,
            "wait_interval": 0
          }
        }
      },
      "cell_type": "code",
      "source": [
        "df_hour = pd.read_csv(\"https://raw.githubusercontent.com/yezhilengyue/Python_ML_Practice/master/Project-%5BRegression%5Dbike-sharing/data/hour.csv\")"
      ],
      "execution_count": 0,
      "outputs": []
    },
    {
      "metadata": {
        "id": "jI53tjI5s6zS",
        "colab_type": "code",
        "colab": {
          "autoexec": {
            "startup": false,
            "wait_interval": 0
          }
        }
      },
      "cell_type": "code",
      "source": [
        "df_hour.rename(\n",
        "    columns = {\n",
        "     'instant' : \"record_id\",\n",
        "     'dteday' : \"datetime\",\n",
        "     'holiday' : \"is_holiday\",\n",
        "     'workingday' : \"is_workingday\",\n",
        "     'weathersit' : \"weather_condition\",\n",
        "     'hum' : \"humidity\",\n",
        "     'mnth' : \"month\",\n",
        "     'cnt' : \"total_count\",\n",
        "     'hr' : \"hour\",\n",
        "     'yr' : \"year\"},\n",
        "    inplace = True )\n",
        "\n",
        "df_hour['datetime'] = pd.to_datetime(df_hour.datetime)\n",
        "\n",
        "df_hour['season'] = df_hour.season.astype('category')\n",
        "df_hour['is_holiday'] = df_hour.is_holiday.astype('category')\n",
        "df_hour['weekday'] = df_hour.weekday.astype('category')\n",
        "df_hour['weather_condition'] = df_hour.weather_condition.astype('category')\n",
        "df_hour['is_workingday'] = df_hour.is_workingday.astype('category')\n",
        "df_hour['month'] = df_hour.month.astype('category')\n",
        "df_hour['year'] = df_hour.year.astype('category')\n",
        "df_hour['hour'] = df_hour.hour.astype('category')"
      ],
      "execution_count": 0,
      "outputs": []
    },
    {
      "metadata": {
        "id": "9HeWTn9GtNMQ",
        "colab_type": "code",
        "colab": {
          "autoexec": {
            "startup": false,
            "wait_interval": 0
          }
        }
      },
      "cell_type": "code",
      "source": [
        "df_hour = df_hour.reindex(np.random.permutation(df_hour.index))"
      ],
      "execution_count": 0,
      "outputs": []
    },
    {
      "metadata": {
        "id": "Nen5h8kltJJl",
        "colab_type": "code",
        "colab": {
          "autoexec": {
            "startup": false,
            "wait_interval": 0
          }
        }
      },
      "cell_type": "code",
      "source": [
        "def preprocess_features(df_hour):\n",
        "    \n",
        "    # \tlongitude\tlatitude\thousing_median_age\ttotal_rooms\ttotal_bedrooms\tpopulation\thouseholds\tmedian_income\tmedian_house_value\n",
        "    selected_features = df_hour[[\n",
        " 'record_id',\n",
        " 'datetime',\n",
        " 'season',\n",
        " 'year',\n",
        " 'month',\n",
        " 'hour',\n",
        " 'is_holiday',\n",
        " 'weekday',\n",
        " 'is_workingday',\n",
        " 'weather_condition',\n",
        " 'temp',\n",
        " 'atemp',\n",
        " 'humidity',\n",
        " 'windspeed']]\n",
        "    \n",
        "    processed_features = selected_features.copy()\n",
        "    #processed_features[\"rooms_per_person\"] = california_housing_dataframe[\"total_rooms\"] / california_housing_dataframe[\"population\"]\n",
        "    \n",
        "    return processed_features\n",
        "\n",
        "def preprocess_targets(df_hour):\n",
        "    \n",
        "    output_targets = pd.DataFrame()\n",
        "    output_targets['total_count'] = df_hour['total_count']\n",
        "    return output_targets"
      ],
      "execution_count": 0,
      "outputs": []
    },
    {
      "metadata": {
        "id": "KrLzRL8OtUWD",
        "colab_type": "code",
        "colab": {
          "autoexec": {
            "startup": false,
            "wait_interval": 0
          },
          "base_uri": "https://localhost:8080/",
          "height": 51
        },
        "outputId": "fd6f8548-996e-475e-e6b6-8f7ece0f82a3",
        "executionInfo": {
          "status": "ok",
          "timestamp": 1524406123570,
          "user_tz": 300,
          "elapsed": 215,
          "user": {
            "displayName": "Yuwei Chen",
            "photoUrl": "//lh6.googleusercontent.com/-_BYdS2oJnRc/AAAAAAAAAAI/AAAAAAAAABs/Gg4tipBBxA4/s50-c-k-no/photo.jpg",
            "userId": "103314493008660501640"
          }
        }
      },
      "cell_type": "code",
      "source": [
        "# Choose the first 11470 (out of 17379) examples for training.\n",
        "training_examples = preprocess_features(df_hour.head(11470))\n",
        "training_targets = preprocess_targets(df_hour.head(11470))\n",
        "\n",
        "validation_examples = preprocess_features(df_hour.tail(5909))\n",
        "validation_targets = preprocess_targets(df_hour.tail(5909))\n",
        "\n",
        "print(\"Training set::{}{}\".format(training_examples.shape, training_targets.shape))\n",
        "print(\"Validation set::{}\".format(validation_examples.shape))"
      ],
      "execution_count": 11,
      "outputs": [
        {
          "output_type": "stream",
          "text": [
            "Training set::(11470, 14)(11470, 1)\n",
            "Validation set::(5909, 14)\n"
          ],
          "name": "stdout"
        }
      ]
    },
    {
      "metadata": {
        "id": "c2pmsI0RtbDp",
        "colab_type": "code",
        "colab": {
          "autoexec": {
            "startup": false,
            "wait_interval": 0
          },
          "base_uri": "https://localhost:8080/",
          "height": 51
        },
        "outputId": "056303ca-9346-4d71-afb9-8181e3ec85a7",
        "executionInfo": {
          "status": "ok",
          "timestamp": 1524406126482,
          "user_tz": 300,
          "elapsed": 219,
          "user": {
            "displayName": "Yuwei Chen",
            "photoUrl": "//lh6.googleusercontent.com/-_BYdS2oJnRc/AAAAAAAAAAI/AAAAAAAAABs/Gg4tipBBxA4/s50-c-k-no/photo.jpg",
            "userId": "103314493008660501640"
          }
        }
      },
      "cell_type": "code",
      "source": [
        "training_examples.reset_index(inplace = True)\n",
        "training_targets = training_targets.reset_index()\n",
        "\n",
        "validation_examples.reset_index(inplace = True)\n",
        "validation_targets = validation_targets.reset_index()\n",
        "\n",
        "print(\"Training set::{}{}\".format(training_examples.shape, training_targets.shape))\n",
        "print(\"Validation set::{}\".format(validation_examples.shape))"
      ],
      "execution_count": 12,
      "outputs": [
        {
          "output_type": "stream",
          "text": [
            "Training set::(11470, 15)(11470, 2)\n",
            "Validation set::(5909, 15)\n"
          ],
          "name": "stdout"
        }
      ]
    },
    {
      "metadata": {
        "id": "hrRb3e4OtflC",
        "colab_type": "code",
        "colab": {
          "autoexec": {
            "startup": false,
            "wait_interval": 0
          }
        }
      },
      "cell_type": "code",
      "source": [
        ""
      ],
      "execution_count": 0,
      "outputs": []
    },
    {
      "metadata": {
        "id": "aURTZN8DtdEp",
        "colab_type": "code",
        "colab": {
          "autoexec": {
            "startup": false,
            "wait_interval": 0
          }
        }
      },
      "cell_type": "code",
      "source": [
        "numeric_feature_cols = ['temp','humidity','windspeed',\n",
        "                        'hour','weekday','month','year']\n",
        "subset_cat_features =  ['season','is_holiday',\n",
        "                        'weather_condition','is_workingday']\n",
        "# cat_attr_list = ['season', 'is_holiday',\n",
        "#                  'weather_condition','is_workingday',\n",
        "#                  'hour','weekday',\n",
        "#                  'month','year']"
      ],
      "execution_count": 0,
      "outputs": []
    },
    {
      "metadata": {
        "id": "tZHOpgr3thYI",
        "colab_type": "code",
        "colab": {
          "autoexec": {
            "startup": false,
            "wait_interval": 0
          }
        }
      },
      "cell_type": "code",
      "source": [
        "def create_training_input_fn(df,col_name):\n",
        "    \"\"\"This function performs one hot encoding for the specified\n",
        "        column.\n",
        "    Args:\n",
        "        df(pandas.DataFrame): the data frame containing the mentioned column name\n",
        "        col_name: the column to be one hot encoded\n",
        "    Returns:\n",
        "        tuple: label_encoder, one_hot_encoder, transformed column as pandas Series\n",
        "    \"\"\"\n",
        "    # label-encode feature (integer encoded)\n",
        "    label_encoders = preprocessing.LabelEncoder()\n",
        "    integer_encoded = label_encoders.fit_transform(df[col_name])\n",
        "    \n",
        "    # make one hot encoding (binary encoded)\n",
        "    onehot_encoder = preprocessing.OneHotEncoder(sparse=False)\n",
        "    integer_encoded = integer_encoded.reshape(len(integer_encoded), 1)\n",
        "    \n",
        "    feature_arr = onehot_encoder.fit_transform(integer_encoded)\n",
        "    feature_labels = [col_name+'_'+str(cls_label) for cls_label in label_encoders.classes_]\n",
        "    feature_df = pd.DataFrame(feature_arr, columns=feature_labels)\n",
        "    \n",
        "    return label_encoders, onehot_encoder, feature_df"
      ],
      "execution_count": 0,
      "outputs": []
    },
    {
      "metadata": {
        "id": "pIUgjpe9tkGQ",
        "colab_type": "code",
        "colab": {
          "autoexec": {
            "startup": false,
            "wait_interval": 0
          }
        }
      },
      "cell_type": "code",
      "source": [
        "def create_predict_input_fn(df, col_name, label_encoders, onehot_encoder):\n",
        "    \n",
        "    # find the encoded label\n",
        "    col_labels = label_encoders.transform(df[col_name])\n",
        "    \n",
        "    # make one hot encoding\n",
        "    col_labels = col_labels.reshape(len(col_labels), 1)\n",
        "    \n",
        "    feature_arr = onehot_encoder.fit_transform(col_labels)\n",
        "    feature_labels = [col_name+'_'+str(cls_label) for cls_label in label_encoders.classes_]\n",
        "    feature_df = pd.DataFrame(feature_arr, columns=feature_labels)\n",
        "    \n",
        "    return feature_df"
      ],
      "execution_count": 0,
      "outputs": []
    },
    {
      "metadata": {
        "id": "ycgj6e4gtmMf",
        "colab_type": "code",
        "colab": {
          "autoexec": {
            "startup": false,
            "wait_interval": 0
          }
        }
      },
      "cell_type": "code",
      "source": [
        "# category_feature_encoded_list = []\n",
        "\n",
        "# for col in subset_cat_features:\n",
        "#     return_obj = create_training_input_fn(training_examples, col)\n",
        "#     category_feature_encoded_list.append({'label_enc':return_obj[0],\n",
        "#                                           'ohe_enc':return_obj[1],\n",
        "#                                           'feature_df':return_obj[2],\n",
        "#                                           'col_name':col})\n",
        "\n",
        "training_encoded_category_features = []\n",
        "\n",
        "for col in subset_cat_features:\n",
        "    return_obj = create_training_input_fn(training_examples, col)\n",
        "    training_encoded_category_features.append({'label_enc':return_obj[0],\n",
        "                                               'ohe_enc':return_obj[1],\n",
        "                                               'feature_df':return_obj[2],\n",
        "                                               'col_name':col})"
      ],
      "execution_count": 0,
      "outputs": []
    },
    {
      "metadata": {
        "id": "LyoGp6SmtqGf",
        "colab_type": "code",
        "colab": {
          "autoexec": {
            "startup": false,
            "wait_interval": 0
          },
          "base_uri": "https://localhost:8080/",
          "height": 51
        },
        "outputId": "69fb1005-fa86-4d83-f99a-3b30568f39b2",
        "executionInfo": {
          "status": "ok",
          "timestamp": 1524406565988,
          "user_tz": 300,
          "elapsed": 199,
          "user": {
            "displayName": "Yuwei Chen",
            "photoUrl": "//lh6.googleusercontent.com/-_BYdS2oJnRc/AAAAAAAAAAI/AAAAAAAAABs/Gg4tipBBxA4/s50-c-k-no/photo.jpg",
            "userId": "103314493008660501640"
          }
        }
      },
      "cell_type": "code",
      "source": [
        "feature_df_list = [training_examples[numeric_feature_cols]]\n",
        "feature_df_list.extend([enc['feature_df'] for enc in category_feature_encoded_list])\n",
        "\n",
        "training_input_fn = pd.concat(feature_df_list, axis=1)\n",
        "training_targets = training_targets.total_count.values.reshape(-1,1)\n",
        "\n",
        "print(\"Shape::{}\".format(training_input_fn.shape))\n",
        "print(\"Shape::{}\".format(training_targets.shape))"
      ],
      "execution_count": 18,
      "outputs": [
        {
          "output_type": "stream",
          "text": [
            "Shape::(11470, 19)\n",
            "Shape::(11470, 1)\n"
          ],
          "name": "stdout"
        }
      ]
    },
    {
      "metadata": {
        "id": "iTPYjlJ_tumP",
        "colab_type": "code",
        "colab": {
          "autoexec": {
            "startup": false,
            "wait_interval": 0
          }
        }
      },
      "cell_type": "code",
      "source": [
        ""
      ],
      "execution_count": 0,
      "outputs": []
    },
    {
      "metadata": {
        "id": "Qh7XvOV5s6_I",
        "colab_type": "code",
        "colab": {
          "autoexec": {
            "startup": false,
            "wait_interval": 0
          }
        }
      },
      "cell_type": "code",
      "source": [
        "'''\n",
        "***   Decision Tree based Regression   ****\n",
        "'''"
      ],
      "execution_count": 0,
      "outputs": []
    },
    {
      "metadata": {
        "id": "mr9MRY4Jq3wI",
        "colab_type": "code",
        "colab": {
          "autoexec": {
            "startup": false,
            "wait_interval": 0
          },
          "base_uri": "https://localhost:8080/",
          "height": 102
        },
        "outputId": "caeef726-bc09-4e92-c386-0c5c10a56de0",
        "executionInfo": {
          "status": "ok",
          "timestamp": 1524406570230,
          "user_tz": 300,
          "elapsed": 197,
          "user": {
            "displayName": "Yuwei Chen",
            "photoUrl": "//lh6.googleusercontent.com/-_BYdS2oJnRc/AAAAAAAAAAI/AAAAAAAAABs/Gg4tipBBxA4/s50-c-k-no/photo.jpg",
            "userId": "103314493008660501640"
          }
        }
      },
      "cell_type": "code",
      "source": [
        "dtr = DecisionTreeRegressor(max_depth = 4, \n",
        "                            min_samples_split = 5, \n",
        "                            max_leaf_nodes = 10)\n",
        "\n",
        "dtr.fit(training_input_fn, training_targets)"
      ],
      "execution_count": 19,
      "outputs": [
        {
          "output_type": "execute_result",
          "data": {
            "text/plain": [
              "DecisionTreeRegressor(criterion='mse', max_depth=4, max_features=None,\n",
              "           max_leaf_nodes=10, min_impurity_decrease=0.0,\n",
              "           min_impurity_split=None, min_samples_leaf=1,\n",
              "           min_samples_split=5, min_weight_fraction_leaf=0.0,\n",
              "           presort=False, random_state=None, splitter='best')"
            ]
          },
          "metadata": {
            "tags": []
          },
          "execution_count": 19
        }
      ]
    },
    {
      "metadata": {
        "id": "QnP4v5hVtxcu",
        "colab_type": "code",
        "colab": {
          "autoexec": {
            "startup": false,
            "wait_interval": 0
          },
          "base_uri": "https://localhost:8080/",
          "height": 34
        },
        "outputId": "2017c5ca-f90c-4dd8-c461-bf159bd88dc6",
        "executionInfo": {
          "status": "ok",
          "timestamp": 1524406599119,
          "user_tz": 300,
          "elapsed": 255,
          "user": {
            "displayName": "Yuwei Chen",
            "photoUrl": "//lh6.googleusercontent.com/-_BYdS2oJnRc/AAAAAAAAAAI/AAAAAAAAABs/Gg4tipBBxA4/s50-c-k-no/photo.jpg",
            "userId": "103314493008660501640"
          }
        }
      },
      "cell_type": "code",
      "source": [
        "dtr.score(training_input_fn, training_targets)"
      ],
      "execution_count": 20,
      "outputs": [
        {
          "output_type": "execute_result",
          "data": {
            "text/plain": [
              "0.6040816315984477"
            ]
          },
          "metadata": {
            "tags": []
          },
          "execution_count": 20
        }
      ]
    },
    {
      "metadata": {
        "id": "nVdqswrMt0ud",
        "colab_type": "code",
        "colab": {
          "autoexec": {
            "startup": false,
            "wait_interval": 0
          }
        }
      },
      "cell_type": "code",
      "source": [
        "# dot_data = tree.export_graphviz(dtr, out_file = None)\n",
        "# graph = pydotplus.graph_from_dot_data(dot_data)\n",
        "# graph.write_pdf(\"bikeshare.pdf\")"
      ],
      "execution_count": 0,
      "outputs": []
    },
    {
      "metadata": {
        "id": "Y8QNhcN6t3a2",
        "colab_type": "code",
        "colab": {
          "autoexec": {
            "startup": false,
            "wait_interval": 0
          }
        }
      },
      "cell_type": "code",
      "source": [
        "param_grid = {\"criterion\": ['mse', 'mae'],\n",
        "              \"min_samples_split\": [10, 20 ,40],\n",
        "              \"max_depth\": [2, 6, 8],\n",
        "              \"min_samples_leaf\": [20, 40, 100],\n",
        "              \"max_leaf_nodes\": [5, 20, 100, 500, 800]}\n",
        "\n",
        "grid_cv_dtr = GridSearchCV(dtr, param_grid, cv = 5)"
      ],
      "execution_count": 0,
      "outputs": []
    },
    {
      "metadata": {
        "id": "fK4PzAh0tz4a",
        "colab_type": "code",
        "colab": {
          "autoexec": {
            "startup": false,
            "wait_interval": 0
          },
          "base_uri": "https://localhost:8080/",
          "height": 207
        },
        "outputId": "22e8419f-11f1-479c-933d-efcf9eee928d",
        "executionInfo": {
          "status": "ok",
          "timestamp": 1524408772999,
          "user_tz": 300,
          "elapsed": 2168943,
          "user": {
            "displayName": "Yuwei Chen",
            "photoUrl": "//lh6.googleusercontent.com/-_BYdS2oJnRc/AAAAAAAAAAI/AAAAAAAAABs/Gg4tipBBxA4/s50-c-k-no/photo.jpg",
            "userId": "103314493008660501640"
          }
        }
      },
      "cell_type": "code",
      "source": [
        "# Reaaaaaally time-consuming\n",
        "grid_cv_dtr.fit(training_input_fn, training_targets)"
      ],
      "execution_count": 22,
      "outputs": [
        {
          "output_type": "execute_result",
          "data": {
            "text/plain": [
              "GridSearchCV(cv=5, error_score='raise',\n",
              "       estimator=DecisionTreeRegressor(criterion='mse', max_depth=4, max_features=None,\n",
              "           max_leaf_nodes=10, min_impurity_decrease=0.0,\n",
              "           min_impurity_split=None, min_samples_leaf=1,\n",
              "           min_samples_split=5, min_weight_fraction_leaf=0.0,\n",
              "           presort=False, random_state=None, splitter='best'),\n",
              "       fit_params=None, iid=True, n_jobs=1,\n",
              "       param_grid={'min_samples_split': [10, 20, 40], 'max_leaf_nodes': [5, 20, 100, 500, 800], 'criterion': ['mse', 'mae'], 'max_depth': [2, 6, 8], 'min_samples_leaf': [20, 40, 100]},\n",
              "       pre_dispatch='2*n_jobs', refit=True, return_train_score='warn',\n",
              "       scoring=None, verbose=0)"
            ]
          },
          "metadata": {
            "tags": []
          },
          "execution_count": 22
        }
      ]
    },
    {
      "metadata": {
        "id": "Vrugjwzktz6s",
        "colab_type": "code",
        "colab": {
          "autoexec": {
            "startup": false,
            "wait_interval": 0
          }
        }
      },
      "cell_type": "code",
      "source": [
        ""
      ],
      "execution_count": 0,
      "outputs": []
    },
    {
      "metadata": {
        "id": "x5Jcb7tutz8q",
        "colab_type": "code",
        "colab": {
          "autoexec": {
            "startup": false,
            "wait_interval": 0
          },
          "base_uri": "https://localhost:8080/",
          "height": 655
        },
        "outputId": "f93ce062-0a50-4f24-f549-8918f9412531",
        "executionInfo": {
          "status": "ok",
          "timestamp": 1524411211090,
          "user_tz": 300,
          "elapsed": 395,
          "user": {
            "displayName": "Yuwei Chen",
            "photoUrl": "//lh6.googleusercontent.com/-_BYdS2oJnRc/AAAAAAAAAAI/AAAAAAAAABs/Gg4tipBBxA4/s50-c-k-no/photo.jpg",
            "userId": "103314493008660501640"
          }
        }
      },
      "cell_type": "code",
      "source": [
        "df = pd.DataFrame(data=grid_cv_dtr.cv_results_)\n",
        "df.head()"
      ],
      "execution_count": 23,
      "outputs": [
        {
          "output_type": "stream",
          "text": [
            "/usr/local/lib/python2.7/dist-packages/sklearn/utils/deprecation.py:122: FutureWarning: You are accessing a training score ('mean_train_score'), which will not be available by default any more in 0.21. If you need training scores, please set return_train_score=True\n",
            "  warnings.warn(*warn_args, **warn_kwargs)\n",
            "/usr/local/lib/python2.7/dist-packages/sklearn/utils/deprecation.py:122: FutureWarning: You are accessing a training score ('split0_train_score'), which will not be available by default any more in 0.21. If you need training scores, please set return_train_score=True\n",
            "  warnings.warn(*warn_args, **warn_kwargs)\n",
            "/usr/local/lib/python2.7/dist-packages/sklearn/utils/deprecation.py:122: FutureWarning: You are accessing a training score ('split1_train_score'), which will not be available by default any more in 0.21. If you need training scores, please set return_train_score=True\n",
            "  warnings.warn(*warn_args, **warn_kwargs)\n",
            "/usr/local/lib/python2.7/dist-packages/sklearn/utils/deprecation.py:122: FutureWarning: You are accessing a training score ('split2_train_score'), which will not be available by default any more in 0.21. If you need training scores, please set return_train_score=True\n",
            "  warnings.warn(*warn_args, **warn_kwargs)\n",
            "/usr/local/lib/python2.7/dist-packages/sklearn/utils/deprecation.py:122: FutureWarning: You are accessing a training score ('split3_train_score'), which will not be available by default any more in 0.21. If you need training scores, please set return_train_score=True\n",
            "  warnings.warn(*warn_args, **warn_kwargs)\n",
            "/usr/local/lib/python2.7/dist-packages/sklearn/utils/deprecation.py:122: FutureWarning: You are accessing a training score ('split4_train_score'), which will not be available by default any more in 0.21. If you need training scores, please set return_train_score=True\n",
            "  warnings.warn(*warn_args, **warn_kwargs)\n",
            "/usr/local/lib/python2.7/dist-packages/sklearn/utils/deprecation.py:122: FutureWarning: You are accessing a training score ('std_train_score'), which will not be available by default any more in 0.21. If you need training scores, please set return_train_score=True\n",
            "  warnings.warn(*warn_args, **warn_kwargs)\n"
          ],
          "name": "stderr"
        },
        {
          "output_type": "execute_result",
          "data": {
            "text/html": [
              "<div>\n",
              "<style scoped>\n",
              "    .dataframe tbody tr th:only-of-type {\n",
              "        vertical-align: middle;\n",
              "    }\n",
              "\n",
              "    .dataframe tbody tr th {\n",
              "        vertical-align: top;\n",
              "    }\n",
              "\n",
              "    .dataframe thead th {\n",
              "        text-align: right;\n",
              "    }\n",
              "</style>\n",
              "<table border=\"1\" class=\"dataframe\">\n",
              "  <thead>\n",
              "    <tr style=\"text-align: right;\">\n",
              "      <th></th>\n",
              "      <th>mean_fit_time</th>\n",
              "      <th>mean_score_time</th>\n",
              "      <th>mean_test_score</th>\n",
              "      <th>mean_train_score</th>\n",
              "      <th>param_criterion</th>\n",
              "      <th>param_max_depth</th>\n",
              "      <th>param_max_leaf_nodes</th>\n",
              "      <th>param_min_samples_leaf</th>\n",
              "      <th>param_min_samples_split</th>\n",
              "      <th>params</th>\n",
              "      <th>...</th>\n",
              "      <th>split2_test_score</th>\n",
              "      <th>split2_train_score</th>\n",
              "      <th>split3_test_score</th>\n",
              "      <th>split3_train_score</th>\n",
              "      <th>split4_test_score</th>\n",
              "      <th>split4_train_score</th>\n",
              "      <th>std_fit_time</th>\n",
              "      <th>std_score_time</th>\n",
              "      <th>std_test_score</th>\n",
              "      <th>std_train_score</th>\n",
              "    </tr>\n",
              "  </thead>\n",
              "  <tbody>\n",
              "    <tr>\n",
              "      <th>0</th>\n",
              "      <td>0.0</td>\n",
              "      <td>0.0</td>\n",
              "      <td>0.5</td>\n",
              "      <td>0.5</td>\n",
              "      <td>mse</td>\n",
              "      <td>2</td>\n",
              "      <td>5</td>\n",
              "      <td>20</td>\n",
              "      <td>10</td>\n",
              "      <td>{u'min_samples_split': 10, u'max_leaf_nodes': ...</td>\n",
              "      <td>...</td>\n",
              "      <td>0.5</td>\n",
              "      <td>0.5</td>\n",
              "      <td>0.5</td>\n",
              "      <td>0.5</td>\n",
              "      <td>0.5</td>\n",
              "      <td>0.5</td>\n",
              "      <td>0.0</td>\n",
              "      <td>0.0</td>\n",
              "      <td>0.0</td>\n",
              "      <td>0.0</td>\n",
              "    </tr>\n",
              "    <tr>\n",
              "      <th>1</th>\n",
              "      <td>0.0</td>\n",
              "      <td>0.0</td>\n",
              "      <td>0.5</td>\n",
              "      <td>0.5</td>\n",
              "      <td>mse</td>\n",
              "      <td>2</td>\n",
              "      <td>5</td>\n",
              "      <td>20</td>\n",
              "      <td>20</td>\n",
              "      <td>{u'min_samples_split': 20, u'max_leaf_nodes': ...</td>\n",
              "      <td>...</td>\n",
              "      <td>0.5</td>\n",
              "      <td>0.5</td>\n",
              "      <td>0.5</td>\n",
              "      <td>0.5</td>\n",
              "      <td>0.5</td>\n",
              "      <td>0.5</td>\n",
              "      <td>0.0</td>\n",
              "      <td>0.0</td>\n",
              "      <td>0.0</td>\n",
              "      <td>0.0</td>\n",
              "    </tr>\n",
              "    <tr>\n",
              "      <th>2</th>\n",
              "      <td>0.0</td>\n",
              "      <td>0.0</td>\n",
              "      <td>0.5</td>\n",
              "      <td>0.5</td>\n",
              "      <td>mse</td>\n",
              "      <td>2</td>\n",
              "      <td>5</td>\n",
              "      <td>20</td>\n",
              "      <td>40</td>\n",
              "      <td>{u'min_samples_split': 40, u'max_leaf_nodes': ...</td>\n",
              "      <td>...</td>\n",
              "      <td>0.5</td>\n",
              "      <td>0.5</td>\n",
              "      <td>0.5</td>\n",
              "      <td>0.5</td>\n",
              "      <td>0.5</td>\n",
              "      <td>0.5</td>\n",
              "      <td>0.0</td>\n",
              "      <td>0.0</td>\n",
              "      <td>0.0</td>\n",
              "      <td>0.0</td>\n",
              "    </tr>\n",
              "    <tr>\n",
              "      <th>3</th>\n",
              "      <td>0.0</td>\n",
              "      <td>0.0</td>\n",
              "      <td>0.5</td>\n",
              "      <td>0.5</td>\n",
              "      <td>mse</td>\n",
              "      <td>2</td>\n",
              "      <td>5</td>\n",
              "      <td>40</td>\n",
              "      <td>10</td>\n",
              "      <td>{u'min_samples_split': 10, u'max_leaf_nodes': ...</td>\n",
              "      <td>...</td>\n",
              "      <td>0.5</td>\n",
              "      <td>0.5</td>\n",
              "      <td>0.5</td>\n",
              "      <td>0.5</td>\n",
              "      <td>0.5</td>\n",
              "      <td>0.5</td>\n",
              "      <td>0.0</td>\n",
              "      <td>0.0</td>\n",
              "      <td>0.0</td>\n",
              "      <td>0.0</td>\n",
              "    </tr>\n",
              "    <tr>\n",
              "      <th>4</th>\n",
              "      <td>0.0</td>\n",
              "      <td>0.0</td>\n",
              "      <td>0.5</td>\n",
              "      <td>0.5</td>\n",
              "      <td>mse</td>\n",
              "      <td>2</td>\n",
              "      <td>5</td>\n",
              "      <td>40</td>\n",
              "      <td>20</td>\n",
              "      <td>{u'min_samples_split': 20, u'max_leaf_nodes': ...</td>\n",
              "      <td>...</td>\n",
              "      <td>0.5</td>\n",
              "      <td>0.5</td>\n",
              "      <td>0.5</td>\n",
              "      <td>0.5</td>\n",
              "      <td>0.5</td>\n",
              "      <td>0.5</td>\n",
              "      <td>0.0</td>\n",
              "      <td>0.0</td>\n",
              "      <td>0.0</td>\n",
              "      <td>0.0</td>\n",
              "    </tr>\n",
              "  </tbody>\n",
              "</table>\n",
              "<p>5 rows × 25 columns</p>\n",
              "</div>"
            ],
            "text/plain": [
              "   mean_fit_time  mean_score_time  mean_test_score  mean_train_score  \\\n",
              "0            0.0              0.0              0.5               0.5   \n",
              "1            0.0              0.0              0.5               0.5   \n",
              "2            0.0              0.0              0.5               0.5   \n",
              "3            0.0              0.0              0.5               0.5   \n",
              "4            0.0              0.0              0.5               0.5   \n",
              "\n",
              "  param_criterion param_max_depth param_max_leaf_nodes param_min_samples_leaf  \\\n",
              "0             mse               2                    5                     20   \n",
              "1             mse               2                    5                     20   \n",
              "2             mse               2                    5                     20   \n",
              "3             mse               2                    5                     40   \n",
              "4             mse               2                    5                     40   \n",
              "\n",
              "  param_min_samples_split                                             params  \\\n",
              "0                      10  {u'min_samples_split': 10, u'max_leaf_nodes': ...   \n",
              "1                      20  {u'min_samples_split': 20, u'max_leaf_nodes': ...   \n",
              "2                      40  {u'min_samples_split': 40, u'max_leaf_nodes': ...   \n",
              "3                      10  {u'min_samples_split': 10, u'max_leaf_nodes': ...   \n",
              "4                      20  {u'min_samples_split': 20, u'max_leaf_nodes': ...   \n",
              "\n",
              "        ...         split2_test_score  split2_train_score  split3_test_score  \\\n",
              "0       ...                       0.5                 0.5                0.5   \n",
              "1       ...                       0.5                 0.5                0.5   \n",
              "2       ...                       0.5                 0.5                0.5   \n",
              "3       ...                       0.5                 0.5                0.5   \n",
              "4       ...                       0.5                 0.5                0.5   \n",
              "\n",
              "   split3_train_score  split4_test_score  split4_train_score  std_fit_time  \\\n",
              "0                 0.5                0.5                 0.5           0.0   \n",
              "1                 0.5                0.5                 0.5           0.0   \n",
              "2                 0.5                0.5                 0.5           0.0   \n",
              "3                 0.5                0.5                 0.5           0.0   \n",
              "4                 0.5                0.5                 0.5           0.0   \n",
              "\n",
              "   std_score_time  std_test_score  std_train_score  \n",
              "0             0.0             0.0              0.0  \n",
              "1             0.0             0.0              0.0  \n",
              "2             0.0             0.0              0.0  \n",
              "3             0.0             0.0              0.0  \n",
              "4             0.0             0.0              0.0  \n",
              "\n",
              "[5 rows x 25 columns]"
            ]
          },
          "metadata": {
            "tags": []
          },
          "execution_count": 23
        }
      ]
    },
    {
      "metadata": {
        "id": "gX9g9BaLt0AZ",
        "colab_type": "code",
        "colab": {
          "autoexec": {
            "startup": false,
            "wait_interval": 0
          },
          "base_uri": "https://localhost:8080/",
          "height": 365
        },
        "outputId": "1b4ff281-bf66-4058-8b27-a0227112caa4",
        "executionInfo": {
          "status": "ok",
          "timestamp": 1524411247218,
          "user_tz": 300,
          "elapsed": 660,
          "user": {
            "displayName": "Yuwei Chen",
            "photoUrl": "//lh6.googleusercontent.com/-_BYdS2oJnRc/AAAAAAAAAAI/AAAAAAAAABs/Gg4tipBBxA4/s50-c-k-no/photo.jpg",
            "userId": "103314493008660501640"
          }
        }
      },
      "cell_type": "code",
      "source": [
        "fig, ax = plt.subplots()\n",
        "\n",
        "sns.pointplot(data=df[['mean_test_score',\n",
        "                      'param_max_leaf_nodes',\n",
        "                      'param_max_depth']],\n",
        "              y='mean_test_score',\n",
        "              x='param_max_depth',\n",
        "              hue='param_max_leaf_nodes',\n",
        "              ax=ax)\n",
        "\n",
        "ax.set(title=\"Effect of Depth and Leaf Nodes on Model Performance\")"
      ],
      "execution_count": 24,
      "outputs": [
        {
          "output_type": "stream",
          "text": [
            "/usr/local/lib/python2.7/dist-packages/seaborn/categorical.py:1468: FutureWarning: remove_na is deprecated and is a private function. Do not use.\n",
            "  stat_data = remove_na(group_data[hue_mask])\n"
          ],
          "name": "stderr"
        },
        {
          "output_type": "execute_result",
          "data": {
            "text/plain": [
              "[Text(0.5,1,u'Effect of Depth and Leaf Nodes on Model Performance')]"
            ]
          },
          "metadata": {
            "tags": []
          },
          "execution_count": 24
        },
        {
          "output_type": "display_data",
          "data": {
            "image/png": "[encoded data removed]",
            "text/plain": [
              "<matplotlib.figure.Figure at 0x7fa7bd3581d0>"
            ]
          },
          "metadata": {
            "tags": []
          }
        }
      ]
    },
    {
      "metadata": {
        "id": "2E5l59wV_aeW",
        "colab_type": "code",
        "colab": {
          "autoexec": {
            "startup": false,
            "wait_interval": 0
          }
        }
      },
      "cell_type": "code",
      "source": [
        ""
      ],
      "execution_count": 0,
      "outputs": []
    },
    {
      "metadata": {
        "id": "dyPaNxhGEx8N",
        "colab_type": "code",
        "colab": {
          "autoexec": {
            "startup": false,
            "wait_interval": 0
          },
          "base_uri": "https://localhost:8080/",
          "height": 279
        },
        "outputId": "305f03a9-5a85-4d11-a983-a0fedd51a544",
        "executionInfo": {
          "status": "ok",
          "timestamp": 1524412670951,
          "user_tz": 300,
          "elapsed": 501,
          "user": {
            "displayName": "Yuwei Chen",
            "photoUrl": "//lh6.googleusercontent.com/-_BYdS2oJnRc/AAAAAAAAAAI/AAAAAAAAABs/Gg4tipBBxA4/s50-c-k-no/photo.jpg",
            "userId": "103314493008660501640"
          }
        }
      },
      "cell_type": "code",
      "source": [
        "predicted = grid_cv_dtr.best_estimator_.predict(training_input_fn)\n",
        "residuals = training_targets.flatten()-predicted\n",
        "\n",
        "fig, ax = plt.subplots()\n",
        "ax.scatter(training_targets.flatten(), residuals)\n",
        "ax.axhline(lw=2,color='black')\n",
        "ax.set_xlabel('Observed')\n",
        "ax.set_ylabel('Residual')\n",
        "plt.show()"
      ],
      "execution_count": 26,
      "outputs": [
        {
          "output_type": "display_data",
          "data": {
            "image/png": "[encoded data removed]",
            "text/plain": [
              "<matplotlib.figure.Figure at 0x7fa7d58c3d90>"
            ]
          },
          "metadata": {
            "tags": []
          }
        }
      ]
    },
    {
      "metadata": {
        "id": "fbBprEnAE2Go",
        "colab_type": "code",
        "colab": {
          "autoexec": {
            "startup": false,
            "wait_interval": 0
          },
          "base_uri": "https://localhost:8080/",
          "height": 51
        },
        "outputId": "e8eb9db1-5a0b-4b03-d504-b14cf2be6a7a",
        "executionInfo": {
          "status": "ok",
          "timestamp": 1524412693606,
          "user_tz": 300,
          "elapsed": 989,
          "user": {
            "displayName": "Yuwei Chen",
            "photoUrl": "//lh6.googleusercontent.com/-_BYdS2oJnRc/AAAAAAAAAAI/AAAAAAAAABs/Gg4tipBBxA4/s50-c-k-no/photo.jpg",
            "userId": "103314493008660501640"
          }
        }
      },
      "cell_type": "code",
      "source": [
        "r2_scores = cross_val_score(grid_cv_dtr.best_estimator_, \n",
        "                            training_input_fn, \n",
        "                            training_targets, \n",
        "                            cv=10)\n",
        "\n",
        "mse_scores = cross_val_score(grid_cv_dtr.best_estimator_, \n",
        "                             training_input_fn, \n",
        "                             training_targets, \n",
        "                             cv=10,\n",
        "                             scoring='neg_mean_squared_error')\n",
        "\n",
        "print(\"avg R-squared::{}\".format(np.mean(r2_scores)))\n",
        "print(\"MSE::{}\".format(np.mean(mse_scores)))"
      ],
      "execution_count": 28,
      "outputs": [
        {
          "output_type": "stream",
          "text": [
            "avg R-squared::0.862333817351\n",
            "MSE::-4499.22691796\n"
          ],
          "name": "stdout"
        }
      ]
    },
    {
      "metadata": {
        "id": "tAqh2Lz_E4d4",
        "colab_type": "code",
        "colab": {
          "autoexec": {
            "startup": false,
            "wait_interval": 0
          }
        }
      },
      "cell_type": "code",
      "source": [
        ""
      ],
      "execution_count": 0,
      "outputs": []
    },
    {
      "metadata": {
        "id": "9oHIMfUkE-gD",
        "colab_type": "code",
        "colab": {
          "autoexec": {
            "startup": false,
            "wait_interval": 0
          }
        }
      },
      "cell_type": "code",
      "source": [
        "'''\n",
        "Testing the model\n",
        "'''"
      ],
      "execution_count": 0,
      "outputs": []
    },
    {
      "metadata": {
        "id": "zygfUrG9E_JY",
        "colab_type": "code",
        "colab": {
          "autoexec": {
            "startup": false,
            "wait_interval": 0
          }
        }
      },
      "cell_type": "code",
      "source": [
        "best_dtr_model = grid_cv_dtr.best_estimator_"
      ],
      "execution_count": 0,
      "outputs": []
    },
    {
      "metadata": {
        "id": "9zdItFD4FRDI",
        "colab_type": "code",
        "colab": {
          "autoexec": {
            "startup": false,
            "wait_interval": 0
          }
        }
      },
      "cell_type": "code",
      "source": [
        "validation_encoded_category_features = []\n",
        "\n",
        "for enc in training_encoded_category_features:\n",
        "    col_name = enc['col_name']\n",
        "    label_encoders = enc['label_enc']\n",
        "    onehot_encoder = enc['ohe_enc']\n",
        "    validation_encoded_category_features.append({'feature_df':create_predict_input_fn(validation_examples, \n",
        "                                                                                    col_name, \n",
        "                                                                                    label_encoders, \n",
        "                                                                                    onehot_encoder),\n",
        "                                               'col_name':col_name})\n",
        "    "
      ],
      "execution_count": 0,
      "outputs": []
    },
    {
      "metadata": {
        "id": "WSoLocg7FTcn",
        "colab_type": "code",
        "colab": {
          "autoexec": {
            "startup": false,
            "wait_interval": 0
          },
          "base_uri": "https://localhost:8080/",
          "height": 34
        },
        "outputId": "c538f136-bec9-48fb-8f8e-b65d83cc0306",
        "executionInfo": {
          "status": "ok",
          "timestamp": 1524412987160,
          "user_tz": 300,
          "elapsed": 201,
          "user": {
            "displayName": "Yuwei Chen",
            "photoUrl": "//lh6.googleusercontent.com/-_BYdS2oJnRc/AAAAAAAAAAI/AAAAAAAAABs/Gg4tipBBxA4/s50-c-k-no/photo.jpg",
            "userId": "103314493008660501640"
          }
        }
      },
      "cell_type": "code",
      "source": [
        "validation_feature_df_list = [validation_examples[numeric_feature_cols]]\n",
        "validation_feature_df_list.extend([enc['feature_df'] for enc in validation_encoded_category_features])\n",
        "\n",
        "predict_validation_input_fn = pd.concat(validation_feature_df_list, axis=1)\n",
        "validation_targets = validation_targets.total_count.values.reshape(-1,1)\n",
        "\n",
        "print(\"Shape::{}\".format(predict_validation_input_fn.shape))"
      ],
      "execution_count": 33,
      "outputs": [
        {
          "output_type": "stream",
          "text": [
            "Shape::(5909, 19)\n"
          ],
          "name": "stdout"
        }
      ]
    },
    {
      "metadata": {
        "id": "o6_pYl_AGDYA",
        "colab_type": "code",
        "colab": {
          "autoexec": {
            "startup": false,
            "wait_interval": 0
          },
          "base_uri": "https://localhost:8080/",
          "height": 51
        },
        "outputId": "241f4206-4c2d-49cc-93d2-908d76f7b74e",
        "executionInfo": {
          "status": "ok",
          "timestamp": 1524413022600,
          "user_tz": 300,
          "elapsed": 225,
          "user": {
            "displayName": "Yuwei Chen",
            "photoUrl": "//lh6.googleusercontent.com/-_BYdS2oJnRc/AAAAAAAAAAI/AAAAAAAAABs/Gg4tipBBxA4/s50-c-k-no/photo.jpg",
            "userId": "103314493008660501640"
          }
        }
      },
      "cell_type": "code",
      "source": [
        "predictions = best_dtr_model.predict(predict_validation_input_fn)\n",
        "residuals = validation_targets.flatten() - predictions\n",
        "\n",
        "r2_score = best_dtr_model.score(predict_validation_input_fn, validation_targets)\n",
        "print(\"R-squared::{}\".format(r2_score))\n",
        "print(\"MSE: %.2f\"\n",
        "      % metrics.mean_squared_error(validation_targets, predictions))"
      ],
      "execution_count": 34,
      "outputs": [
        {
          "output_type": "stream",
          "text": [
            "R-squared::0.870159244709\n",
            "MSE: 4311.38\n"
          ],
          "name": "stdout"
        }
      ]
    },
    {
      "metadata": {
        "id": "pBLmo8rAGMBW",
        "colab_type": "code",
        "colab": {
          "autoexec": {
            "startup": false,
            "wait_interval": 0
          },
          "base_uri": "https://localhost:8080/",
          "height": 284
        },
        "outputId": "7344df24-bfa9-4597-84c2-047a94f84ebb",
        "executionInfo": {
          "status": "ok",
          "timestamp": 1524413030928,
          "user_tz": 300,
          "elapsed": 364,
          "user": {
            "displayName": "Yuwei Chen",
            "photoUrl": "//lh6.googleusercontent.com/-_BYdS2oJnRc/AAAAAAAAAAI/AAAAAAAAABs/Gg4tipBBxA4/s50-c-k-no/photo.jpg",
            "userId": "103314493008660501640"
          }
        }
      },
      "cell_type": "code",
      "source": [
        "fig, ax = plt.subplots()\n",
        "ax.scatter(validation_targets.flatten(), residuals)\n",
        "ax.axhline(lw=2,color='black')\n",
        "ax.set_xlabel('Observed')\n",
        "ax.set_ylabel('Residual')\n",
        "plt.show()\n",
        "\n",
        "r2_score = grid_cv_dtr.best_estimator_.score(predict_validation_input_fn, validation_targets)"
      ],
      "execution_count": 35,
      "outputs": [
        {
          "output_type": "display_data",
          "data": {
            "image/png": "[encoded data removed]",
            "text/plain": [
              "<matplotlib.figure.Figure at 0x7fa7baca60d0>"
            ]
          },
          "metadata": {
            "tags": []
          }
        }
      ]
    },
    {
      "metadata": {
        "id": "JKbzBvMVGOBN",
        "colab_type": "code",
        "colab": {
          "autoexec": {
            "startup": false,
            "wait_interval": 0
          }
        }
      },
      "cell_type": "code",
      "source": [
        ""
      ],
      "execution_count": 0,
      "outputs": []
    }
  ]
}