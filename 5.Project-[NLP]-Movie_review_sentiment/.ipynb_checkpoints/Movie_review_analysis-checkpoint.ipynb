{
 "cells": [
  {
   "cell_type": "code",
   "execution_count": null,
   "metadata": {
    "collapsed": true
   },
   "outputs": [],
   "source": [
    "'''\n",
    "- natural language processing (NLP), text analytics, and Machine Learning\n",
    "- sentiment analysis or opinion mining\n",
    "\n",
    "                        *****  Problem Statement *****\n",
    "To predict the sentiment for a number of movie reviews obtained from the Internet Movie Database (IMDb)\n",
    "\n",
    "# 50,000 movie reviews with  “positive” and “negative” sentiment class labels based on the review content\n",
    "# additional movie reviews that are unlabeled\n",
    "\n",
    "Hence our task will be to predict the sentiment of 15,000 labeled movie reviews \n",
    "and use the remaining 35,000 reviews for training our supervised models. \n",
    "\n",
    "We will still predict sentiments for only 15,000 reviews in case of unsupervised models \n",
    "to maintain consistency and enable ease of comparison.\n",
    "'''"
   ]
  },
  {
   "cell_type": "code",
   "execution_count": null,
   "metadata": {
    "collapsed": true
   },
   "outputs": [],
   "source": []
  },
  {
   "cell_type": "code",
   "execution_count": null,
   "metadata": {
    "collapsed": true
   },
   "outputs": [],
   "source": []
  },
  {
   "cell_type": "code",
   "execution_count": null,
   "metadata": {
    "collapsed": true
   },
   "outputs": [],
   "source": []
  },
  {
   "cell_type": "code",
   "execution_count": null,
   "metadata": {
    "collapsed": true
   },
   "outputs": [],
   "source": []
  }
 ],
 "metadata": {
  "kernelspec": {
   "display_name": "Python 3",
   "language": "python",
   "name": "python3"
  },
  "language_info": {
   "codemirror_mode": {
    "name": "ipython",
    "version": 3
   },
   "file_extension": ".py",
   "mimetype": "text/x-python",
   "name": "python",
   "nbconvert_exporter": "python",
   "pygments_lexer": "ipython3",
   "version": "3.6.1"
  }
 },
 "nbformat": 4,
 "nbformat_minor": 2
}
