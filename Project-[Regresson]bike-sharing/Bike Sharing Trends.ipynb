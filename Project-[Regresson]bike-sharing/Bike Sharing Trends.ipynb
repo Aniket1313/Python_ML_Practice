{
 "cells": [
  {
   "cell_type": "code",
   "execution_count": null,
   "metadata": {
    "collapsed": true
   },
   "outputs": [],
   "source": [
    "'''\n",
    "                                            ** Problem Statement **\n",
    "    Bicycle, as a model of transportation, has edge on environmental and health issues compared with other means of transproation. \n",
    "Therefore, many cities all around the world began to encourage bike usage by providing bike sharing programs, such as Mobike.\n",
    "Riders can pick up bikes from one spot and return them to other designed place.\n",
    "\n",
    "- About the dataset:\n",
    "  The Capital Bike Sharing dataset from UCI contains information about a bike sharing program underway in Washington DC. \n",
    "  \n",
    "  In other words, given this augmented (bike sharing details along with weather information) dataset, \n",
    "  can we forecast bike rental demand for this program?\n",
    "'''"
   ]
  },
  {
   "cell_type": "code",
   "execution_count": null,
   "metadata": {
    "collapsed": true
   },
   "outputs": [],
   "source": [
    "import pandas as pd"
   ]
  }
 ],
 "metadata": {
  "kernelspec": {
   "display_name": "Python 3",
   "language": "python",
   "name": "python3"
  },
  "language_info": {
   "codemirror_mode": {
    "name": "ipython",
    "version": 3
   },
   "file_extension": ".py",
   "mimetype": "text/x-python",
   "name": "python",
   "nbconvert_exporter": "python",
   "pygments_lexer": "ipython3",
   "version": "3.6.1"
  }
 },
 "nbformat": 4,
 "nbformat_minor": 2
}
